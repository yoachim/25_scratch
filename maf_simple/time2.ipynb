{
 "cells": [
  {
   "cell_type": "code",
   "execution_count": 1,
   "id": "71887019-7b1d-428f-965d-3bbeba51f758",
   "metadata": {},
   "outputs": [],
   "source": [
    "import os\n",
    "import time\n",
    "import numpy as np\n",
    "import pandas as pd\n",
    "import matplotlib.pyplot as plt\n",
    "%matplotlib inline\n",
    "import healpy as hp\n",
    "\n",
    "import rubin_sim.maf as maf\n",
    "import rubin_sim.utils as rsUtils\n",
    "from rubin_sim.data import get_baseline\n"
   ]
  },
  {
   "cell_type": "code",
   "execution_count": 2,
   "id": "172447a5-2df9-4972-aae6-9a384c89b116",
   "metadata": {},
   "outputs": [],
   "source": [
    "baseline_file = get_baseline()\n",
    "name = os.path.basename(baseline_file).replace('.db','')\n",
    "out_dir = 'temp'\n",
    "results_db = maf.db.ResultsDb(out_dir=out_dir)"
   ]
  },
  {
   "cell_type": "code",
   "execution_count": 3,
   "id": "6fcb1925-77d5-45b7-86fa-df6536686389",
   "metadata": {},
   "outputs": [
    {
     "name": "stdout",
     "output_type": "stream",
     "text": [
      "Healpix slicer using NSIDE=128, approximate resolution 27.483891 arcminutes\n",
      "Healpix slicer using NSIDE=128, approximate resolution 27.483891 arcminutes\n",
      "Healpix slicer using NSIDE=128, approximate resolution 27.483891 arcminutes\n",
      "Healpix slicer using NSIDE=128, approximate resolution 27.483891 arcminutes\n",
      "Healpix slicer using NSIDE=128, approximate resolution 27.483891 arcminutes\n",
      "Healpix slicer using NSIDE=128, approximate resolution 27.483891 arcminutes\n"
     ]
    }
   ],
   "source": [
    "start = time.time()\n",
    "bundle_list = []\n",
    "for filtername in \"ugrizy\":\n",
    "    metric = maf.metrics.Coaddm5Metric(metric_name='Coadd, %s' % filtername)\n",
    "    sql = \"filter='%s' \" % filtername\n",
    "    slicer = maf.slicers.HealpixSlicer()\n",
    "    bundle_list.append(maf.MetricBundle(metric, slicer, sql, run_name=name))\n",
    "\n",
    "bd = maf.metricBundles.make_bundles_dict_from_list(bundle_list)\n",
    "bg = maf.metricBundles.MetricBundleGroup(bd, baseline_file, out_dir=out_dir, results_db=results_db)\n",
    "bg.run_all()\n",
    "end = time.time()"
   ]
  },
  {
   "cell_type": "code",
   "execution_count": 4,
   "id": "fea78343-2e5b-4781-9336-2d79166e9aa8",
   "metadata": {},
   "outputs": [
    {
     "name": "stdout",
     "output_type": "stream",
     "text": [
      "runtime= 124.56720924377441\n"
     ]
    }
   ],
   "source": [
    "print(\"runtime=\", end-start)"
   ]
  },
  {
   "cell_type": "code",
   "execution_count": 5,
   "id": "10a3b064-ce67-45d8-923f-7c061b089cd4",
   "metadata": {},
   "outputs": [
    {
     "name": "stdout",
     "output_type": "stream",
     "text": [
      "Healpix slicer using NSIDE=128, approximate resolution 27.483891 arcminutes\n",
      "Healpix slicer using NSIDE=128, approximate resolution 27.483891 arcminutes\n",
      "Healpix slicer using NSIDE=128, approximate resolution 27.483891 arcminutes\n",
      "Healpix slicer using NSIDE=128, approximate resolution 27.483891 arcminutes\n",
      "Healpix slicer using NSIDE=128, approximate resolution 27.483891 arcminutes\n",
      "Healpix slicer using NSIDE=128, approximate resolution 27.483891 arcminutes\n"
     ]
    }
   ],
   "source": [
    "start = time.time()\n",
    "bundle_list = []\n",
    "for filtername in \"ugrizy\":\n",
    "    metric = maf.metrics.Coaddm5Metric(metric_name='Coadd, %s' % filtername)\n",
    "    sql = \"filter='%s' \" % filtername\n",
    "    slicer = maf.slicers.HealpixSlicer()\n",
    "    bundle_list.append(maf.MetricBundle(metric, slicer, sql, run_name=name))\n",
    "\n",
    "    metric = maf.metrics.CountMetric(col=\"night\", metric_name='Count, %s' % filtername)\n",
    "    bundle_list.append(maf.MetricBundle(metric, slicer, sql, run_name=name))\n",
    "\n",
    "bd = maf.metricBundles.make_bundles_dict_from_list(bundle_list)\n",
    "bg = maf.metricBundles.MetricBundleGroup(bd, baseline_file, out_dir=out_dir, results_db=results_db)\n",
    "bg.run_all()\n",
    "end = time.time()"
   ]
  },
  {
   "cell_type": "code",
   "execution_count": 6,
   "id": "447f30cc-53c9-4dab-8178-ebc94d96d7f9",
   "metadata": {},
   "outputs": [
    {
     "name": "stdout",
     "output_type": "stream",
     "text": [
      "runtime= 126.45393800735474\n"
     ]
    }
   ],
   "source": [
    "print(\"runtime=\", end-start)"
   ]
  },
  {
   "cell_type": "code",
   "execution_count": null,
   "id": "9dcdf8c8-de6b-47f5-915a-427d468db815",
   "metadata": {},
   "outputs": [],
   "source": []
  }
 ],
 "metadata": {
  "kernelspec": {
   "display_name": "Python 3 (ipykernel)",
   "language": "python",
   "name": "python3"
  },
  "language_info": {
   "codemirror_mode": {
    "name": "ipython",
    "version": 3
   },
   "file_extension": ".py",
   "mimetype": "text/x-python",
   "name": "python",
   "nbconvert_exporter": "python",
   "pygments_lexer": "ipython3",
   "version": "3.12.9"
  }
 },
 "nbformat": 4,
 "nbformat_minor": 5
}
