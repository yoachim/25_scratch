{
 "cells": [
  {
   "cell_type": "code",
   "execution_count": 1,
   "id": "4a7af750-6b42-4259-a154-d9d799b3981e",
   "metadata": {},
   "outputs": [],
   "source": [
    "import copy\n",
    "import time\n",
    "import numpy as np\n",
    "import healpy as hp\n",
    "import sqlite3\n",
    "import pandas as pd\n",
    "import matplotlib.pylab as plt\n",
    "%matplotlib inline\n",
    "\n",
    "from slicer import Slicer, MeanMetric, CountMetric, CoaddM5Metric, PlotMoll, gen_summary_row\n",
    "from rubin_sim.data import get_baseline\n"
   ]
  },
  {
   "cell_type": "code",
   "execution_count": 2,
   "id": "f9a3eb24-3a54-4e8d-9a83-a108cf5873e9",
   "metadata": {},
   "outputs": [],
   "source": [
    "# Read in a small example visit history\n",
    "baseline_file = get_baseline()\n",
    "\n",
    "con = sqlite3.connect(baseline_file)\n",
    "df = pd.read_sql(\"select * from observations ;\", con)\n",
    "#df = pd.read_sql(\"select * from observations;\", con)\n",
    "con.close()"
   ]
  },
  {
   "cell_type": "code",
   "execution_count": 3,
   "id": "05a3c448-8995-4173-a471-f41806d5b246",
   "metadata": {},
   "outputs": [],
   "source": [
    "start = time.time()\n",
    "#summary_stats = []\n",
    "subsets = {}\n",
    "for filtername in 'ugrizy':\n",
    "    subsets[filtername] = np.where(df[\"filter\"] == filtername)[0]\n",
    "#subsets[\"all\"] = np.arange(np.size(df[\"filter\"]))\n",
    "\n",
    "for key in subsets:\n",
    "    info = {\"run_name\": \"baseline_v4.3.1_0yrs\"}\n",
    "    info[\"observations_subset\"] =  \"filter=%s\" % key\n",
    "    sub_data = df.iloc[np.where(df[\"filter\"] == filtername)[0]]\n",
    "    metric = CoaddM5Metric(unit=\"Coadd %s (mags)\" % filtername)\n",
    "    sl = Slicer(nside=128)\n",
    "    hp_array, info = sl(sub_data, metric, info=info)\n",
    "    #summary_stats.append(gen_summary_row(info, \"mean\", np.nanmean(hp_array)))\n",
    "    #summary_stats.append(gen_summary_row(info, \"median\", np.nanmedian(hp_array)))\n",
    "\n",
    "\n",
    "end = time.time()"
   ]
  },
  {
   "cell_type": "code",
   "execution_count": 4,
   "id": "4f420c79-1763-48b0-b1cb-5a991f8d9ba3",
   "metadata": {},
   "outputs": [
    {
     "name": "stdout",
     "output_type": "stream",
     "text": [
      "runtime= 196.70891189575195\n"
     ]
    }
   ],
   "source": [
    "print(\"runtime=\", end-start)"
   ]
  },
  {
   "cell_type": "code",
   "execution_count": 5,
   "id": "e20f5d51-697a-4e35-b6dd-7e9f15f08e60",
   "metadata": {},
   "outputs": [],
   "source": [
    "start = time.time()\n",
    "#summary_stats = []\n",
    "subsets = {}\n",
    "for filtername in 'ugrizy':\n",
    "    subsets[filtername] = np.where(df[\"filter\"] == filtername)[0]\n",
    "#subsets[\"all\"] = np.arange(np.size(df[\"filter\"]))\n",
    "\n",
    "for key in subsets:\n",
    "    info = {\"run_name\": \"baseline_v4.3.1_0yrs\"}\n",
    "    info[\"observations_subset\"] =  \"filter=%s\" % key\n",
    "    sub_data = df.iloc[np.where(df[\"filter\"] == filtername)[0]]\n",
    "    metric = CoaddM5Metric(unit=\"Coadd %s (mags)\" % filtername)\n",
    "    sl = Slicer(nside=128)\n",
    "    hp_array, info = sl(sub_data, metric, info=info)\n",
    "    #summary_stats.append(gen_summary_row(info, \"mean\", np.nanmean(hp_array)))\n",
    "    #summary_stats.append(gen_summary_row(info, \"median\", np.nanmedian(hp_array)))\n",
    "\n",
    "for key in subsets:\n",
    "    info = {\"run_name\": \"baseline_v4.3.1_0yrs\"}\n",
    "    info[\"observations_subset\"] =  \"filter=%s\" % key\n",
    "    sub_data = df.iloc[np.where(df[\"filter\"] == filtername)[0]]\n",
    "    metric = CountMetric(unit=\"Coadd %s (mags)\" % filtername)\n",
    "    sl = Slicer(nside=128)\n",
    "    hp_array, info = sl(sub_data, metric, info=info)\n",
    "    #summary_stats.append(gen_summary_row(info, \"mean\", np.nanmean(hp_array)))\n",
    "    #summary_stats.append(gen_summary_row(info, \"median\", np.nanmedian(hp_array)))\n",
    "\n",
    "\n",
    "end = time.time()"
   ]
  },
  {
   "cell_type": "code",
   "execution_count": 6,
   "id": "af5892ab-ece8-4a34-b07d-ce2d62ec9f81",
   "metadata": {},
   "outputs": [
    {
     "name": "stdout",
     "output_type": "stream",
     "text": [
      "runtime= 322.5823941230774\n"
     ]
    }
   ],
   "source": [
    "print(\"runtime=\", end-start)"
   ]
  }
 ],
 "metadata": {
  "kernelspec": {
   "display_name": "Python 3 (ipykernel)",
   "language": "python",
   "name": "python3"
  },
  "language_info": {
   "codemirror_mode": {
    "name": "ipython",
    "version": 3
   },
   "file_extension": ".py",
   "mimetype": "text/x-python",
   "name": "python",
   "nbconvert_exporter": "python",
   "pygments_lexer": "ipython3",
   "version": "3.12.9"
  }
 },
 "nbformat": 4,
 "nbformat_minor": 5
}
