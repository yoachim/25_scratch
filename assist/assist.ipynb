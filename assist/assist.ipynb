{
 "cells": [
  {
   "cell_type": "markdown",
   "id": "56d54760-8915-4402-916a-44de8b5d4f04",
   "metadata": {},
   "source": [
    "Let's see if we can load up some objects, integrate positions, then convert to RA,dec"
   ]
  },
  {
   "cell_type": "code",
   "execution_count": 1,
   "id": "e0ce8fe6-6d79-4d77-a0dc-3fa2a0794ea8",
   "metadata": {},
   "outputs": [],
   "source": [
    "import assist\n",
    "import astropy.units as u\n",
    "from astropy.coordinates import SkyCoord, ICRS,GCRS,EarthLocation\n",
    "\n",
    "\n",
    "from astropy.time import Time\n",
    "import rebound\n",
    "from rubin_sim.moving_objects import Orbits\n",
    "import numpy as np\n",
    "import matplotlib.pylab as plt\n",
    "%matplotlib inline"
   ]
  },
  {
   "cell_type": "code",
   "execution_count": 2,
   "id": "3a3fa549-7e61-4d57-9c12-cc63f542abd1",
   "metadata": {},
   "outputs": [],
   "source": [
    "ephem = assist.Ephem(\"/Users/yoachim/rubin_sim_data/linux_p1550p2650.440\", \"/Users/yoachim/rubin_sim_data/sb441-n16.bsp\")\n",
    "time = Time(ephem.jd_ref, format=\"jd\")\n",
    "part = ephem.get_particle(\"Earth\", 0)"
   ]
  },
  {
   "cell_type": "code",
   "execution_count": 3,
   "id": "151d9bc1-d1bd-4332-9839-84d7992672ee",
   "metadata": {},
   "outputs": [
    {
     "data": {
      "text/plain": [
       "<rebound.particle.Particle object at 0x1133f89d0, m=8.887692446707103e-10 x=-0.18427227843428148 y=0.8847811839446426 z=0.3838199903352723 vx=-0.017202246608380413 vy=-0.002904925902856414 vz=-0.0012594279121938968>"
      ]
     },
     "execution_count": 3,
     "metadata": {},
     "output_type": "execute_result"
    }
   ],
   "source": [
    "part"
   ]
  },
  {
   "cell_type": "code",
   "execution_count": 4,
   "id": "dae25c26-1fad-4f7a-b534-d229038354df",
   "metadata": {},
   "outputs": [],
   "source": [
    "sc = SkyCoord(x=part.x*u.au, y=part.y*u.au, z=part.z*u.au, \n",
    "              representation_type='cartesian', obstime=time,\n",
    "              frame=ICRS)"
   ]
  },
  {
   "cell_type": "code",
   "execution_count": 5,
   "id": "207624ac-cafe-4415-9efc-f0e69346a15d",
   "metadata": {},
   "outputs": [
    {
     "data": {
      "text/plain": [
       "<SkyCoord (ICRS): (ra, dec, distance) in (deg, deg, AU)\n",
       "    (101.76474291, 23.01041191, 0.98189195)>"
      ]
     },
     "execution_count": 5,
     "metadata": {},
     "output_type": "execute_result"
    }
   ],
   "source": [
    "# Ah, so this is the RA,dec from the sun probably, that's why it keeps giving me ~1 AU dist\n",
    "sc.transform_to(ICRS)"
   ]
  },
  {
   "cell_type": "code",
   "execution_count": null,
   "id": "f094fdae-aeb1-40f3-9b3a-2cdd57bd5640",
   "metadata": {},
   "outputs": [],
   "source": []
  },
  {
   "cell_type": "code",
   "execution_count": 6,
   "id": "cb37c947-f758-45ec-a323-5140e27e797d",
   "metadata": {},
   "outputs": [],
   "source": [
    "sim = rebound.Simulation()\n",
    "extras = assist.Extras(sim, ephem)\n",
    "\n",
    "# If we are using orbital elements, need to put the sun in. Maybe the rest of the bodies too, I'm confused?\n",
    "t_initial = 0 # Julian Days relative to jd_ref\n",
    "sun_initial = ephem.get_particle(\"sun\", t_initial)\n",
    "sim.add(sun_initial)\n",
    "        "
   ]
  },
  {
   "cell_type": "code",
   "execution_count": null,
   "id": "ff76f24d-f295-4a92-b381-6ed0fc1e2ca7",
   "metadata": {},
   "outputs": [],
   "source": []
  },
  {
   "cell_type": "code",
   "execution_count": null,
   "id": "48fd3a8e-af6f-40d0-9e51-9ea10cb3fa7a",
   "metadata": {},
   "outputs": [],
   "source": []
  },
  {
   "cell_type": "code",
   "execution_count": 7,
   "id": "a4ec2fa1-73a4-4030-8087-04a07ef6a69e",
   "metadata": {},
   "outputs": [],
   "source": [
    "rs_orbits = Orbits()\n",
    "rs_orbits.read_orbits(\"/Users/yoachim/rubin_sim_data/orbits/l7_5k.txt\")\n",
    "#rs_orbits.read_orbits(\"/Users/yoachim/rubin_sim_data/orbits/granvik_5k.txt\")\n",
    "\n",
    "#rs_orbits.read_orbits(\"/Users/yoachim/rubin_sim_data/orbits/occ_rmax20_5k.txt\")\n",
    "\n",
    "N_objects = rs_orbits.orbits.shape[0]"
   ]
  },
  {
   "cell_type": "code",
   "execution_count": 8,
   "id": "12e978bf-f74b-4f46-b544-da2ec9531161",
   "metadata": {},
   "outputs": [
    {
     "data": {
      "text/html": [
       "<div>\n",
       "<style scoped>\n",
       "    .dataframe tbody tr th:only-of-type {\n",
       "        vertical-align: middle;\n",
       "    }\n",
       "\n",
       "    .dataframe tbody tr th {\n",
       "        vertical-align: top;\n",
       "    }\n",
       "\n",
       "    .dataframe thead th {\n",
       "        text-align: right;\n",
       "    }\n",
       "</style>\n",
       "<table border=\"1\" class=\"dataframe\">\n",
       "  <thead>\n",
       "    <tr style=\"text-align: right;\">\n",
       "      <th></th>\n",
       "      <th>a</th>\n",
       "      <th>e</th>\n",
       "      <th>inc</th>\n",
       "      <th>Omega</th>\n",
       "      <th>argPeri</th>\n",
       "      <th>meanAnomaly</th>\n",
       "      <th>H</th>\n",
       "      <th>j</th>\n",
       "      <th>type</th>\n",
       "      <th>inner</th>\n",
       "      <th>outer</th>\n",
       "      <th>epoch</th>\n",
       "      <th>objId</th>\n",
       "      <th>g</th>\n",
       "      <th>sed_filename</th>\n",
       "      <th>obj_id</th>\n",
       "    </tr>\n",
       "  </thead>\n",
       "  <tbody>\n",
       "    <tr>\n",
       "      <th>0</th>\n",
       "      <td>44.236</td>\n",
       "      <td>0.182</td>\n",
       "      <td>28.109</td>\n",
       "      <td>51.440</td>\n",
       "      <td>244.298</td>\n",
       "      <td>288.191</td>\n",
       "      <td>8.42</td>\n",
       "      <td>43.13</td>\n",
       "      <td>classical</td>\n",
       "      <td>m</td>\n",
       "      <td>h</td>\n",
       "      <td>53157.0</td>\n",
       "      <td>0</td>\n",
       "      <td>0.15</td>\n",
       "      <td>TNO.dat</td>\n",
       "      <td>0</td>\n",
       "    </tr>\n",
       "    <tr>\n",
       "      <th>1</th>\n",
       "      <td>55.066</td>\n",
       "      <td>0.284</td>\n",
       "      <td>17.996</td>\n",
       "      <td>15.226</td>\n",
       "      <td>227.946</td>\n",
       "      <td>226.554</td>\n",
       "      <td>8.31</td>\n",
       "      <td>67.61</td>\n",
       "      <td>classical</td>\n",
       "      <td>o</td>\n",
       "      <td>0</td>\n",
       "      <td>53157.0</td>\n",
       "      <td>1</td>\n",
       "      <td>0.15</td>\n",
       "      <td>TNO.dat</td>\n",
       "      <td>1</td>\n",
       "    </tr>\n",
       "    <tr>\n",
       "      <th>2</th>\n",
       "      <td>44.710</td>\n",
       "      <td>0.108</td>\n",
       "      <td>5.966</td>\n",
       "      <td>85.787</td>\n",
       "      <td>80.317</td>\n",
       "      <td>330.394</td>\n",
       "      <td>7.98</td>\n",
       "      <td>40.66</td>\n",
       "      <td>classical</td>\n",
       "      <td>m</td>\n",
       "      <td>s</td>\n",
       "      <td>53157.0</td>\n",
       "      <td>2</td>\n",
       "      <td>0.15</td>\n",
       "      <td>TNO.dat</td>\n",
       "      <td>2</td>\n",
       "    </tr>\n",
       "    <tr>\n",
       "      <th>3</th>\n",
       "      <td>45.006</td>\n",
       "      <td>0.133</td>\n",
       "      <td>4.486</td>\n",
       "      <td>160.498</td>\n",
       "      <td>205.155</td>\n",
       "      <td>221.741</td>\n",
       "      <td>8.33</td>\n",
       "      <td>49.77</td>\n",
       "      <td>classical</td>\n",
       "      <td>m</td>\n",
       "      <td>s</td>\n",
       "      <td>53157.0</td>\n",
       "      <td>3</td>\n",
       "      <td>0.15</td>\n",
       "      <td>TNO.dat</td>\n",
       "      <td>3</td>\n",
       "    </tr>\n",
       "    <tr>\n",
       "      <th>4</th>\n",
       "      <td>55.244</td>\n",
       "      <td>0.540</td>\n",
       "      <td>19.464</td>\n",
       "      <td>147.566</td>\n",
       "      <td>30.841</td>\n",
       "      <td>18.338</td>\n",
       "      <td>6.93</td>\n",
       "      <td>31.40</td>\n",
       "      <td>resonant</td>\n",
       "      <td>5</td>\n",
       "      <td>2</td>\n",
       "      <td>53157.0</td>\n",
       "      <td>4</td>\n",
       "      <td>0.15</td>\n",
       "      <td>TNO.dat</td>\n",
       "      <td>4</td>\n",
       "    </tr>\n",
       "    <tr>\n",
       "      <th>...</th>\n",
       "      <td>...</td>\n",
       "      <td>...</td>\n",
       "      <td>...</td>\n",
       "      <td>...</td>\n",
       "      <td>...</td>\n",
       "      <td>...</td>\n",
       "      <td>...</td>\n",
       "      <td>...</td>\n",
       "      <td>...</td>\n",
       "      <td>...</td>\n",
       "      <td>...</td>\n",
       "      <td>...</td>\n",
       "      <td>...</td>\n",
       "      <td>...</td>\n",
       "      <td>...</td>\n",
       "      <td>...</td>\n",
       "    </tr>\n",
       "    <tr>\n",
       "      <th>4995</th>\n",
       "      <td>44.028</td>\n",
       "      <td>0.188</td>\n",
       "      <td>15.816</td>\n",
       "      <td>319.203</td>\n",
       "      <td>89.221</td>\n",
       "      <td>96.687</td>\n",
       "      <td>7.02</td>\n",
       "      <td>46.44</td>\n",
       "      <td>classical</td>\n",
       "      <td>m</td>\n",
       "      <td>h</td>\n",
       "      <td>53157.0</td>\n",
       "      <td>4995</td>\n",
       "      <td>0.15</td>\n",
       "      <td>TNO.dat</td>\n",
       "      <td>4995</td>\n",
       "    </tr>\n",
       "    <tr>\n",
       "      <th>4996</th>\n",
       "      <td>43.356</td>\n",
       "      <td>0.051</td>\n",
       "      <td>4.577</td>\n",
       "      <td>133.552</td>\n",
       "      <td>210.746</td>\n",
       "      <td>86.078</td>\n",
       "      <td>8.45</td>\n",
       "      <td>43.32</td>\n",
       "      <td>classical</td>\n",
       "      <td>m</td>\n",
       "      <td>s</td>\n",
       "      <td>53157.0</td>\n",
       "      <td>4996</td>\n",
       "      <td>0.15</td>\n",
       "      <td>TNO.dat</td>\n",
       "      <td>4996</td>\n",
       "    </tr>\n",
       "    <tr>\n",
       "      <th>4997</th>\n",
       "      <td>61.265</td>\n",
       "      <td>0.346</td>\n",
       "      <td>23.458</td>\n",
       "      <td>15.496</td>\n",
       "      <td>185.149</td>\n",
       "      <td>185.633</td>\n",
       "      <td>8.31</td>\n",
       "      <td>82.43</td>\n",
       "      <td>classical</td>\n",
       "      <td>o</td>\n",
       "      <td>0</td>\n",
       "      <td>53157.0</td>\n",
       "      <td>4997</td>\n",
       "      <td>0.15</td>\n",
       "      <td>TNO.dat</td>\n",
       "      <td>4997</td>\n",
       "    </tr>\n",
       "    <tr>\n",
       "      <th>4998</th>\n",
       "      <td>39.312</td>\n",
       "      <td>0.190</td>\n",
       "      <td>24.344</td>\n",
       "      <td>345.594</td>\n",
       "      <td>23.602</td>\n",
       "      <td>299.183</td>\n",
       "      <td>7.84</td>\n",
       "      <td>36.89</td>\n",
       "      <td>resonant</td>\n",
       "      <td>3</td>\n",
       "      <td>2</td>\n",
       "      <td>53157.0</td>\n",
       "      <td>4998</td>\n",
       "      <td>0.15</td>\n",
       "      <td>TNO.dat</td>\n",
       "      <td>4998</td>\n",
       "    </tr>\n",
       "    <tr>\n",
       "      <th>4999</th>\n",
       "      <td>56.707</td>\n",
       "      <td>0.322</td>\n",
       "      <td>28.620</td>\n",
       "      <td>122.400</td>\n",
       "      <td>189.377</td>\n",
       "      <td>357.565</td>\n",
       "      <td>7.14</td>\n",
       "      <td>38.47</td>\n",
       "      <td>classical</td>\n",
       "      <td>o</td>\n",
       "      <td>0</td>\n",
       "      <td>53157.0</td>\n",
       "      <td>4999</td>\n",
       "      <td>0.15</td>\n",
       "      <td>TNO.dat</td>\n",
       "      <td>4999</td>\n",
       "    </tr>\n",
       "  </tbody>\n",
       "</table>\n",
       "<p>5000 rows × 16 columns</p>\n",
       "</div>"
      ],
      "text/plain": [
       "           a      e     inc    Omega  argPeri  meanAnomaly     H      j  \\\n",
       "0     44.236  0.182  28.109   51.440  244.298      288.191  8.42  43.13   \n",
       "1     55.066  0.284  17.996   15.226  227.946      226.554  8.31  67.61   \n",
       "2     44.710  0.108   5.966   85.787   80.317      330.394  7.98  40.66   \n",
       "3     45.006  0.133   4.486  160.498  205.155      221.741  8.33  49.77   \n",
       "4     55.244  0.540  19.464  147.566   30.841       18.338  6.93  31.40   \n",
       "...      ...    ...     ...      ...      ...          ...   ...    ...   \n",
       "4995  44.028  0.188  15.816  319.203   89.221       96.687  7.02  46.44   \n",
       "4996  43.356  0.051   4.577  133.552  210.746       86.078  8.45  43.32   \n",
       "4997  61.265  0.346  23.458   15.496  185.149      185.633  8.31  82.43   \n",
       "4998  39.312  0.190  24.344  345.594   23.602      299.183  7.84  36.89   \n",
       "4999  56.707  0.322  28.620  122.400  189.377      357.565  7.14  38.47   \n",
       "\n",
       "           type inner outer    epoch  objId     g sed_filename  obj_id  \n",
       "0     classical     m     h  53157.0      0  0.15      TNO.dat       0  \n",
       "1     classical     o     0  53157.0      1  0.15      TNO.dat       1  \n",
       "2     classical     m     s  53157.0      2  0.15      TNO.dat       2  \n",
       "3     classical     m     s  53157.0      3  0.15      TNO.dat       3  \n",
       "4      resonant     5     2  53157.0      4  0.15      TNO.dat       4  \n",
       "...         ...   ...   ...      ...    ...   ...          ...     ...  \n",
       "4995  classical     m     h  53157.0   4995  0.15      TNO.dat    4995  \n",
       "4996  classical     m     s  53157.0   4996  0.15      TNO.dat    4996  \n",
       "4997  classical     o     0  53157.0   4997  0.15      TNO.dat    4997  \n",
       "4998   resonant     3     2  53157.0   4998  0.15      TNO.dat    4998  \n",
       "4999  classical     o     0  53157.0   4999  0.15      TNO.dat    4999  \n",
       "\n",
       "[5000 rows x 16 columns]"
      ]
     },
     "execution_count": 8,
     "metadata": {},
     "output_type": "execute_result"
    }
   ],
   "source": [
    "rs_orbits.orbits"
   ]
  },
  {
   "cell_type": "code",
   "execution_count": 9,
   "id": "dc03561e-ffee-499b-8366-f682cfbb65d8",
   "metadata": {},
   "outputs": [],
   "source": [
    "# now to convert each orbit to a particle\n",
    "for i in range(rs_orbits.orbits.shape[0]):\n",
    "    row = rs_orbits.orbits.iloc[i]\n",
    "    part = rebound.Particle(sim, a=row[\"a\"], e=row[\"e\"], inc=np.radians(row[\"inc\"]), Omega=np.radians(row[\"Omega\"]),\n",
    "                            omega=np.radians(row[\"argPeri\"]), M=np.radians(row[\"meanAnomaly\"]))\n",
    "    \n",
    "    sim.add(part)"
   ]
  },
  {
   "cell_type": "code",
   "execution_count": null,
   "id": "6c94d7da-683e-4778-beb9-d9f64cd48f89",
   "metadata": {},
   "outputs": [],
   "source": []
  },
  {
   "cell_type": "code",
   "execution_count": 10,
   "id": "39a2f6e2-66d3-4455-8e61-b462ff974c36",
   "metadata": {},
   "outputs": [],
   "source": [
    "t_final = 365*5\n",
    "N_samples_time =365*5\n",
    "times = np.linspace(t_initial, t_final, N_samples_time, endpoint=True)\n",
    "\n",
    "positions = np.zeros((N_samples_time, N_objects, 3))\n",
    "\n",
    "for i, t in enumerate(times):\n",
    "    extras.integrate_or_interpolate(t)\n",
    "    for j in range(N_objects):\n",
    "        # Need +1 to skip sun\n",
    "        positions[i,j] = sim.particles[j+1].xyz"
   ]
  },
  {
   "cell_type": "code",
   "execution_count": 11,
   "id": "69b17917-0b31-4d86-bfeb-22fc5ee18d08",
   "metadata": {},
   "outputs": [
    {
     "data": {
      "text/plain": [
       "[-9.565418595772778, -30.647973123839105, 10.944481360576287]"
      ]
     },
     "execution_count": 11,
     "metadata": {},
     "output_type": "execute_result"
    }
   ],
   "source": [
    "sim.particles[5].xyz"
   ]
  },
  {
   "cell_type": "code",
   "execution_count": 12,
   "id": "4ef2c784-578c-4ee6-92f2-804276eff8b7",
   "metadata": {},
   "outputs": [
    {
     "data": {
      "text/plain": [
       "[<matplotlib.lines.Line2D at 0x30488c170>]"
      ]
     },
     "execution_count": 12,
     "metadata": {},
     "output_type": "execute_result"
    },
    {
     "data": {
      "image/png": "[encoded data removed]",
      "text/plain": [
       "<Figure size 640x480 with 1 Axes>"
      ]
     },
     "metadata": {},
     "output_type": "display_data"
    }
   ],
   "source": [
    "plt.plot(positions[:,100,0], positions[:,100,1])"
   ]
  },
  {
   "cell_type": "code",
   "execution_count": 13,
   "id": "17c11c9c-6737-43a8-860b-6e13de6beb0d",
   "metadata": {},
   "outputs": [],
   "source": [
    "\n",
    "\n",
    "location = EarthLocation.of_site('LSST')\n",
    "apt = Time(times+ephem.jd_ref, format=\"jd\")\n",
    "\n",
    "sc = SkyCoord(x=positions[:,100,0]*u.au, y=positions[:,100,1]*u.au, z=positions[:,100,2]*u.au, \n",
    "              representation_type='cartesian', obstime=apt,\n",
    "              frame=ICRS, location=location)\n",
    "\n"
   ]
  },
  {
   "cell_type": "code",
   "execution_count": null,
   "id": "2a6d2c09-8d3a-425c-ad96-6c332d1bb00d",
   "metadata": {},
   "outputs": [],
   "source": []
  },
  {
   "cell_type": "code",
   "execution_count": 14,
   "id": "7c2d345a-71dc-4eed-958d-5a89a8fa6fc9",
   "metadata": {},
   "outputs": [],
   "source": [
    "ack = sc.transform_to(ICRS)"
   ]
  },
  {
   "cell_type": "code",
   "execution_count": 15,
   "id": "4eebf4a3-e10c-43e8-8f97-eeecfbca4a2f",
   "metadata": {},
   "outputs": [
    {
     "data": {
      "text/plain": [
       "[<matplotlib.lines.Line2D at 0x3048c16d0>]"
      ]
     },
     "execution_count": 15,
     "metadata": {},
     "output_type": "execute_result"
    },
    {
     "data": {
      "image/png": "[encoded data removed]",
      "text/plain": [
       "<Figure size 640x480 with 1 Axes>"
      ]
     },
     "metadata": {},
     "output_type": "display_data"
    }
   ],
   "source": [
    "plt.plot(ack.ra, ack.dec)"
   ]
  },
  {
   "cell_type": "code",
   "execution_count": 16,
   "id": "8d60eb7a-8811-4954-8604-e109ab3bbcf6",
   "metadata": {},
   "outputs": [],
   "source": [
    "ack = sc.transform_to(GCRS)"
   ]
  },
  {
   "cell_type": "code",
   "execution_count": 17,
   "id": "2dd60d30-b297-4820-a0b5-fdff381c0a4a",
   "metadata": {},
   "outputs": [
    {
     "data": {
      "text/plain": [
       "[<matplotlib.lines.Line2D at 0x303c76c90>]"
      ]
     },
     "execution_count": 17,
     "metadata": {},
     "output_type": "execute_result"
    },
    {
     "data": {
      "image/png": "[encoded data removed]",
      "text/plain": [
       "<Figure size 640x480 with 1 Axes>"
      ]
     },
     "metadata": {},
     "output_type": "display_data"
    }
   ],
   "source": [
    "# Ah, there we go, need to go to GCRS\n",
    "plt.plot(ack.ra, ack.dec, 'ko')"
   ]
  },
  {
   "cell_type": "code",
   "execution_count": 18,
   "id": "add97b02-7836-4098-bf65-52f74b96e094",
   "metadata": {},
   "outputs": [
    {
     "data": {
      "text/plain": [
       "<SkyCoord (GCRS: obstime=[2451545.         2451546.00054825 2451547.00109649 ... 2453367.99890351\n",
       " 2453368.99945175 2453370.        ], obsgeoloc=(0., 0., 0.) m, obsgeovel=(0., 0., 0.) m / s): (ra, dec, distance) in (deg, deg, AU)\n",
       "    [(252.41624703, 8.13578843, 41.37906925),\n",
       "     (252.44185938, 8.13917081, 41.37176852),\n",
       "     (252.46728655, 8.14276554, 41.36424941), ...,\n",
       "     (259.34082664, 8.12820033, 42.36530358),\n",
       "     (259.36736342, 8.13035956, 42.36073267),\n",
       "     (259.39378169, 8.13272915, 42.35592534)]>"
      ]
     },
     "execution_count": 18,
     "metadata": {},
     "output_type": "execute_result"
    }
   ],
   "source": [
    "# Looks like this is from the center of the earth. Which is probably close enough. \n",
    "ack"
   ]
  },
  {
   "cell_type": "code",
   "execution_count": null,
   "id": "0885fd72-75a7-4a19-a916-03527dd4a2b7",
   "metadata": {},
   "outputs": [],
   "source": []
  },
  {
   "cell_type": "code",
   "execution_count": null,
   "id": "e6fb92f6-f7c6-476f-aa10-e83e71fd5b3f",
   "metadata": {},
   "outputs": [],
   "source": []
  }
 ],
 "metadata": {
  "kernelspec": {
   "display_name": "Python 3 (ipykernel)",
   "language": "python",
   "name": "python3"
  },
  "language_info": {
   "codemirror_mode": {
    "name": "ipython",
    "version": 3
   },
   "file_extension": ".py",
   "mimetype": "text/x-python",
   "name": "python",
   "nbconvert_exporter": "python",
   "pygments_lexer": "ipython3",
   "version": "3.12.8"
  }
 },
 "nbformat": 4,
 "nbformat_minor": 5
}
