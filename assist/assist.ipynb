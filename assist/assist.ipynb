{
 "cells": [
  {
   "cell_type": "markdown",
   "id": "56d54760-8915-4402-916a-44de8b5d4f04",
   "metadata": {},
   "source": [
    "Let's see if we can load up some objects, integrate positions, then convert to RA,dec"
   ]
  },
  {
   "cell_type": "code",
   "execution_count": 1,
   "id": "e0ce8fe6-6d79-4d77-a0dc-3fa2a0794ea8",
   "metadata": {},
   "outputs": [],
   "source": [
    "import assist\n",
    "import astropy.units as u\n",
    "from astropy.coordinates import SkyCoord, HeliocentricTrueEcliptic, ICRS,GCRS, GeocentricMeanEcliptic, GeocentricTrueEcliptic,EarthLocation\n",
    "\n",
    "\n",
    "from astropy.time import Time\n",
    "import rebound\n",
    "from rubin_sim.moving_objects import Orbits\n",
    "import numpy as np\n",
    "import matplotlib.pylab as plt\n",
    "%matplotlib inline"
   ]
  },
  {
   "cell_type": "code",
   "execution_count": 2,
   "id": "3a3fa549-7e61-4d57-9c12-cc63f542abd1",
   "metadata": {},
   "outputs": [],
   "source": [
    "ephem = assist.Ephem(\"/Users/yoachim/rubin_sim_data/linux_p1550p2650.440\", \"/Users/yoachim/rubin_sim_data/sb441-n16.bsp\")\n",
    "time = Time(ephem.jd_ref, format=\"jd\")\n",
    "part = ephem.get_particle(\"Earth\", 0)"
   ]
  },
  {
   "cell_type": "code",
   "execution_count": 3,
   "id": "151d9bc1-d1bd-4332-9839-84d7992672ee",
   "metadata": {},
   "outputs": [
    {
     "data": {
      "text/plain": [
       "<rebound.particle.Particle object at 0x1048a1450, m=8.887692446707103e-10 x=-0.18427227843428148 y=0.8847811839446426 z=0.3838199903352723 vx=-0.017202246608380413 vy=-0.002904925902856414 vz=-0.0012594279121938968>"
      ]
     },
     "execution_count": 3,
     "metadata": {},
     "output_type": "execute_result"
    }
   ],
   "source": [
    "part"
   ]
  },
  {
   "cell_type": "code",
   "execution_count": 4,
   "id": "dae25c26-1fad-4f7a-b534-d229038354df",
   "metadata": {},
   "outputs": [],
   "source": [
    "sc = SkyCoord(x=part.x*u.au, y=part.y*u.au, z=part.z*u.au, \n",
    "              representation_type='cartesian', obstime=time,\n",
    "              frame=ICRS)"
   ]
  },
  {
   "cell_type": "code",
   "execution_count": 5,
   "id": "207624ac-cafe-4415-9efc-f0e69346a15d",
   "metadata": {},
   "outputs": [
    {
     "data": {
      "text/plain": [
       "<SkyCoord (ICRS): (ra, dec, distance) in (deg, deg, AU)\n",
       "    (101.76474291, 23.01041191, 0.98189195)>"
      ]
     },
     "execution_count": 5,
     "metadata": {},
     "output_type": "execute_result"
    }
   ],
   "source": [
    "# Ah, so this is the RA,dec from the sun probably, that's why it keeps giving me ~1 AU dist\n",
    "sc.transform_to(ICRS)"
   ]
  },
  {
   "cell_type": "code",
   "execution_count": 6,
   "id": "f094fdae-aeb1-40f3-9b3a-2cdd57bd5640",
   "metadata": {},
   "outputs": [
    {
     "data": {
      "text/plain": [
       "<SkyCoord (GeocentricTrueEcliptic: equinox=J2000.000, obstime=2451545.0): (lon, lat, distance) in (deg, deg, AU)\n",
       "    (9.78362015, 0.85811944, 1.22125856e-05)>"
      ]
     },
     "execution_count": 6,
     "metadata": {},
     "output_type": "execute_result"
    }
   ],
   "source": [
    "sc.transform_to(GeocentricTrueEcliptic)"
   ]
  },
  {
   "cell_type": "code",
   "execution_count": 7,
   "id": "cb37c947-f758-45ec-a323-5140e27e797d",
   "metadata": {},
   "outputs": [],
   "source": [
    "sim = rebound.Simulation()\n",
    "extras = assist.Extras(sim, ephem)\n",
    "\n",
    "# If we are using orbital elements, need to put the sun in. Maybe the rest of the bodies too, I'm confused?\n",
    "t_initial = 0 # Julian Days relative to jd_ref\n",
    "sun_initial = ephem.get_particle(\"sun\", t_initial)\n",
    "sim.add(sun_initial)\n",
    "        "
   ]
  },
  {
   "cell_type": "code",
   "execution_count": 8,
   "id": "ff76f24d-f295-4a92-b381-6ed0fc1e2ca7",
   "metadata": {},
   "outputs": [
    {
     "name": "stdout",
     "output_type": "stream",
     "text": [
      "Help on method add in module rebound.simulation:\n",
      "\n",
      "add(particle=None, **kwargs) method of rebound.simulation.Simulation instance\n",
      "    Adds a particle to REBOUND. Accepts one of the following:\n",
      "\n",
      "    1) A single Particle structure.\n",
      "    2) The particle's mass and a set of cartesian coordinates: m,x,y,z,vx,vy,vz.\n",
      "    3) The primary as a Particle structure, the particle's mass and a set of orbital elements: primary,m,a,anom,e,omega,inv,Omega,MEAN (see :class:`.Orbit` for the definition of orbital elements).\n",
      "    4) A name of an object (uses NASA Horizons to look up coordinates)\n",
      "    5) A list of particles or names.\n",
      "\n"
     ]
    }
   ],
   "source": [
    "help(sim.add)"
   ]
  },
  {
   "cell_type": "code",
   "execution_count": null,
   "id": "48fd3a8e-af6f-40d0-9e51-9ea10cb3fa7a",
   "metadata": {},
   "outputs": [],
   "source": []
  },
  {
   "cell_type": "code",
   "execution_count": 9,
   "id": "a4ec2fa1-73a4-4030-8087-04a07ef6a69e",
   "metadata": {},
   "outputs": [],
   "source": [
    "rs_orbits = Orbits()\n",
    "rs_orbits.read_orbits(\"/Users/yoachim/rubin_sim_data/orbits/granvik_5k.txt\")\n",
    "#rs_orbits.read_orbits(\"/Users/yoachim/rubin_sim_data/orbits/occ_rmax20_5k.txt\")\n",
    "\n",
    "N_objects = rs_orbits.orbits.shape[0]"
   ]
  },
  {
   "cell_type": "code",
   "execution_count": 10,
   "id": "12e978bf-f74b-4f46-b544-da2ec9531161",
   "metadata": {},
   "outputs": [
    {
     "data": {
      "text/html": [
       "<div>\n",
       "<style scoped>\n",
       "    .dataframe tbody tr th:only-of-type {\n",
       "        vertical-align: middle;\n",
       "    }\n",
       "\n",
       "    .dataframe tbody tr th {\n",
       "        vertical-align: top;\n",
       "    }\n",
       "\n",
       "    .dataframe thead th {\n",
       "        text-align: right;\n",
       "    }\n",
       "</style>\n",
       "<table border=\"1\" class=\"dataframe\">\n",
       "  <thead>\n",
       "    <tr style=\"text-align: right;\">\n",
       "      <th></th>\n",
       "      <th>a</th>\n",
       "      <th>e</th>\n",
       "      <th>inc</th>\n",
       "      <th>Omega</th>\n",
       "      <th>argPeri</th>\n",
       "      <th>meanAnomaly</th>\n",
       "      <th>epoch</th>\n",
       "      <th>H</th>\n",
       "      <th>objId</th>\n",
       "      <th>g</th>\n",
       "      <th>sed_filename</th>\n",
       "      <th>obj_id</th>\n",
       "    </tr>\n",
       "  </thead>\n",
       "  <tbody>\n",
       "    <tr>\n",
       "      <th>0</th>\n",
       "      <td>1.810322</td>\n",
       "      <td>0.457012</td>\n",
       "      <td>8.524691</td>\n",
       "      <td>321.309082</td>\n",
       "      <td>218.878296</td>\n",
       "      <td>194.936127</td>\n",
       "      <td>59853.0</td>\n",
       "      <td>24.902994</td>\n",
       "      <td>242880</td>\n",
       "      <td>0.15</td>\n",
       "      <td>S.dat</td>\n",
       "      <td>0</td>\n",
       "    </tr>\n",
       "    <tr>\n",
       "      <th>1</th>\n",
       "      <td>1.390497</td>\n",
       "      <td>0.458398</td>\n",
       "      <td>43.303799</td>\n",
       "      <td>232.109802</td>\n",
       "      <td>241.479919</td>\n",
       "      <td>91.117035</td>\n",
       "      <td>59853.0</td>\n",
       "      <td>24.474217</td>\n",
       "      <td>175331</td>\n",
       "      <td>0.15</td>\n",
       "      <td>S.dat</td>\n",
       "      <td>1</td>\n",
       "    </tr>\n",
       "    <tr>\n",
       "      <th>2</th>\n",
       "      <td>1.657430</td>\n",
       "      <td>0.493258</td>\n",
       "      <td>5.164651</td>\n",
       "      <td>302.836609</td>\n",
       "      <td>266.812195</td>\n",
       "      <td>161.882599</td>\n",
       "      <td>59853.0</td>\n",
       "      <td>23.124664</td>\n",
       "      <td>647396</td>\n",
       "      <td>0.15</td>\n",
       "      <td>S.dat</td>\n",
       "      <td>2</td>\n",
       "    </tr>\n",
       "    <tr>\n",
       "      <th>3</th>\n",
       "      <td>2.073438</td>\n",
       "      <td>0.554929</td>\n",
       "      <td>10.493196</td>\n",
       "      <td>185.436066</td>\n",
       "      <td>139.102676</td>\n",
       "      <td>261.443756</td>\n",
       "      <td>59853.0</td>\n",
       "      <td>24.706829</td>\n",
       "      <td>492747</td>\n",
       "      <td>0.15</td>\n",
       "      <td>S.dat</td>\n",
       "      <td>3</td>\n",
       "    </tr>\n",
       "    <tr>\n",
       "      <th>4</th>\n",
       "      <td>1.338621</td>\n",
       "      <td>0.133787</td>\n",
       "      <td>39.041023</td>\n",
       "      <td>341.855743</td>\n",
       "      <td>186.264435</td>\n",
       "      <td>40.988487</td>\n",
       "      <td>59853.0</td>\n",
       "      <td>24.607513</td>\n",
       "      <td>546031</td>\n",
       "      <td>0.15</td>\n",
       "      <td>S.dat</td>\n",
       "      <td>4</td>\n",
       "    </tr>\n",
       "    <tr>\n",
       "      <th>...</th>\n",
       "      <td>...</td>\n",
       "      <td>...</td>\n",
       "      <td>...</td>\n",
       "      <td>...</td>\n",
       "      <td>...</td>\n",
       "      <td>...</td>\n",
       "      <td>...</td>\n",
       "      <td>...</td>\n",
       "      <td>...</td>\n",
       "      <td>...</td>\n",
       "      <td>...</td>\n",
       "      <td>...</td>\n",
       "    </tr>\n",
       "    <tr>\n",
       "      <th>4995</th>\n",
       "      <td>1.624333</td>\n",
       "      <td>0.446512</td>\n",
       "      <td>54.509521</td>\n",
       "      <td>355.366943</td>\n",
       "      <td>314.864990</td>\n",
       "      <td>99.870674</td>\n",
       "      <td>59853.0</td>\n",
       "      <td>23.640100</td>\n",
       "      <td>23696</td>\n",
       "      <td>0.15</td>\n",
       "      <td>S.dat</td>\n",
       "      <td>4995</td>\n",
       "    </tr>\n",
       "    <tr>\n",
       "      <th>4996</th>\n",
       "      <td>2.984417</td>\n",
       "      <td>0.763269</td>\n",
       "      <td>41.823479</td>\n",
       "      <td>333.647278</td>\n",
       "      <td>74.136383</td>\n",
       "      <td>7.006821</td>\n",
       "      <td>59853.0</td>\n",
       "      <td>24.729494</td>\n",
       "      <td>33632</td>\n",
       "      <td>0.15</td>\n",
       "      <td>C.dat</td>\n",
       "      <td>4996</td>\n",
       "    </tr>\n",
       "    <tr>\n",
       "      <th>4997</th>\n",
       "      <td>1.787739</td>\n",
       "      <td>0.404088</td>\n",
       "      <td>23.665245</td>\n",
       "      <td>351.980927</td>\n",
       "      <td>102.490379</td>\n",
       "      <td>126.487000</td>\n",
       "      <td>59853.0</td>\n",
       "      <td>24.963896</td>\n",
       "      <td>214385</td>\n",
       "      <td>0.15</td>\n",
       "      <td>S.dat</td>\n",
       "      <td>4997</td>\n",
       "    </tr>\n",
       "    <tr>\n",
       "      <th>4998</th>\n",
       "      <td>2.174124</td>\n",
       "      <td>0.421286</td>\n",
       "      <td>4.020179</td>\n",
       "      <td>38.037006</td>\n",
       "      <td>138.996429</td>\n",
       "      <td>290.406464</td>\n",
       "      <td>59853.0</td>\n",
       "      <td>24.503445</td>\n",
       "      <td>106108</td>\n",
       "      <td>0.15</td>\n",
       "      <td>S.dat</td>\n",
       "      <td>4998</td>\n",
       "    </tr>\n",
       "    <tr>\n",
       "      <th>4999</th>\n",
       "      <td>1.267627</td>\n",
       "      <td>0.485687</td>\n",
       "      <td>5.517235</td>\n",
       "      <td>86.842247</td>\n",
       "      <td>154.513092</td>\n",
       "      <td>55.123280</td>\n",
       "      <td>59853.0</td>\n",
       "      <td>24.542208</td>\n",
       "      <td>653425</td>\n",
       "      <td>0.15</td>\n",
       "      <td>S.dat</td>\n",
       "      <td>4999</td>\n",
       "    </tr>\n",
       "  </tbody>\n",
       "</table>\n",
       "<p>5000 rows × 12 columns</p>\n",
       "</div>"
      ],
      "text/plain": [
       "             a         e        inc       Omega     argPeri  meanAnomaly  \\\n",
       "0     1.810322  0.457012   8.524691  321.309082  218.878296   194.936127   \n",
       "1     1.390497  0.458398  43.303799  232.109802  241.479919    91.117035   \n",
       "2     1.657430  0.493258   5.164651  302.836609  266.812195   161.882599   \n",
       "3     2.073438  0.554929  10.493196  185.436066  139.102676   261.443756   \n",
       "4     1.338621  0.133787  39.041023  341.855743  186.264435    40.988487   \n",
       "...        ...       ...        ...         ...         ...          ...   \n",
       "4995  1.624333  0.446512  54.509521  355.366943  314.864990    99.870674   \n",
       "4996  2.984417  0.763269  41.823479  333.647278   74.136383     7.006821   \n",
       "4997  1.787739  0.404088  23.665245  351.980927  102.490379   126.487000   \n",
       "4998  2.174124  0.421286   4.020179   38.037006  138.996429   290.406464   \n",
       "4999  1.267627  0.485687   5.517235   86.842247  154.513092    55.123280   \n",
       "\n",
       "        epoch          H   objId     g sed_filename  obj_id  \n",
       "0     59853.0  24.902994  242880  0.15        S.dat       0  \n",
       "1     59853.0  24.474217  175331  0.15        S.dat       1  \n",
       "2     59853.0  23.124664  647396  0.15        S.dat       2  \n",
       "3     59853.0  24.706829  492747  0.15        S.dat       3  \n",
       "4     59853.0  24.607513  546031  0.15        S.dat       4  \n",
       "...       ...        ...     ...   ...          ...     ...  \n",
       "4995  59853.0  23.640100   23696  0.15        S.dat    4995  \n",
       "4996  59853.0  24.729494   33632  0.15        C.dat    4996  \n",
       "4997  59853.0  24.963896  214385  0.15        S.dat    4997  \n",
       "4998  59853.0  24.503445  106108  0.15        S.dat    4998  \n",
       "4999  59853.0  24.542208  653425  0.15        S.dat    4999  \n",
       "\n",
       "[5000 rows x 12 columns]"
      ]
     },
     "execution_count": 10,
     "metadata": {},
     "output_type": "execute_result"
    }
   ],
   "source": [
    "rs_orbits.orbits"
   ]
  },
  {
   "cell_type": "code",
   "execution_count": 11,
   "id": "dc03561e-ffee-499b-8366-f682cfbb65d8",
   "metadata": {},
   "outputs": [],
   "source": [
    "# now to convert each orbit to a particle\n",
    "for i in range(rs_orbits.orbits.shape[0]):\n",
    "    row = rs_orbits.orbits.iloc[i]\n",
    "    part = rebound.Particle(sim, a=row[\"a\"], e=row[\"e\"], inc=np.radians(row[\"inc\"]), Omega=np.radians(row[\"Omega\"]),\n",
    "                            omega=np.radians(row[\"argPeri\"]), M=np.radians(row[\"meanAnomaly\"]))\n",
    "    \n",
    "    sim.add(part)"
   ]
  },
  {
   "cell_type": "code",
   "execution_count": 12,
   "id": "6c94d7da-683e-4778-beb9-d9f64cd48f89",
   "metadata": {},
   "outputs": [
    {
     "name": "stdout",
     "output_type": "stream",
     "text": [
      "Help on method add in module rebound.simulation:\n",
      "\n",
      "add(particle=None, **kwargs) method of rebound.simulation.Simulation instance\n",
      "    Adds a particle to REBOUND. Accepts one of the following:\n",
      "\n",
      "    1) A single Particle structure.\n",
      "    2) The particle's mass and a set of cartesian coordinates: m,x,y,z,vx,vy,vz.\n",
      "    3) The primary as a Particle structure, the particle's mass and a set of orbital elements: primary,m,a,anom,e,omega,inv,Omega,MEAN (see :class:`.Orbit` for the definition of orbital elements).\n",
      "    4) A name of an object (uses NASA Horizons to look up coordinates)\n",
      "    5) A list of particles or names.\n",
      "\n"
     ]
    }
   ],
   "source": [
    "help(sim.add)"
   ]
  },
  {
   "cell_type": "code",
   "execution_count": 13,
   "id": "39a2f6e2-66d3-4455-8e61-b462ff974c36",
   "metadata": {},
   "outputs": [],
   "source": [
    "t_final = 365*5\n",
    "N_samples_time =365*5\n",
    "times = np.linspace(t_initial, t_final, N_samples_time, endpoint=True)\n",
    "\n",
    "positions = np.zeros((N_samples_time, N_objects, 3))\n",
    "\n",
    "for i, t in enumerate(times):\n",
    "    extras.integrate_or_interpolate(t)\n",
    "    for j in range(N_objects):\n",
    "        # Need +1 to skip sun\n",
    "        positions[i,j] = sim.particles[j+1].xyz"
   ]
  },
  {
   "cell_type": "code",
   "execution_count": 14,
   "id": "69b17917-0b31-4d86-bfeb-22fc5ee18d08",
   "metadata": {},
   "outputs": [
    {
     "data": {
      "text/plain": [
       "[0.843646652614617, -1.0298409644032418, -0.5815129742944708]"
      ]
     },
     "execution_count": 14,
     "metadata": {},
     "output_type": "execute_result"
    }
   ],
   "source": [
    "sim.particles[5].xyz"
   ]
  },
  {
   "cell_type": "code",
   "execution_count": 15,
   "id": "4ef2c784-578c-4ee6-92f2-804276eff8b7",
   "metadata": {},
   "outputs": [
    {
     "data": {
      "text/plain": [
       "[<matplotlib.lines.Line2D at 0x30a0da810>]"
      ]
     },
     "execution_count": 15,
     "metadata": {},
     "output_type": "execute_result"
    },
    {
     "data": {
      "image/png": "[encoded data removed]",
      "text/plain": [
       "<Figure size 640x480 with 1 Axes>"
      ]
     },
     "metadata": {},
     "output_type": "display_data"
    }
   ],
   "source": [
    "plt.plot(positions[:,100,0], positions[:,100,1])"
   ]
  },
  {
   "cell_type": "code",
   "execution_count": 16,
   "id": "17c11c9c-6737-43a8-860b-6e13de6beb0d",
   "metadata": {},
   "outputs": [],
   "source": [
    "\n",
    "\n",
    "location = EarthLocation.of_site('LSST')\n",
    "apt = Time(times+ephem.jd_ref, format=\"jd\")\n",
    "\n",
    "sc = SkyCoord(x=positions[:,100,0]*u.au, y=positions[:,100,1]*u.au, z=positions[:,100,2]*u.au, \n",
    "              representation_type='cartesian', obstime=apt,\n",
    "              frame=ICRS, location=location)\n",
    "\n"
   ]
  },
  {
   "cell_type": "code",
   "execution_count": null,
   "id": "2a6d2c09-8d3a-425c-ad96-6c332d1bb00d",
   "metadata": {},
   "outputs": [],
   "source": []
  },
  {
   "cell_type": "code",
   "execution_count": 17,
   "id": "7c2d345a-71dc-4eed-958d-5a89a8fa6fc9",
   "metadata": {},
   "outputs": [],
   "source": [
    "ack = sc.transform_to(ICRS)"
   ]
  },
  {
   "cell_type": "code",
   "execution_count": 18,
   "id": "4eebf4a3-e10c-43e8-8f97-eeecfbca4a2f",
   "metadata": {},
   "outputs": [
    {
     "data": {
      "text/plain": [
       "[<matplotlib.lines.Line2D at 0x336c60f50>]"
      ]
     },
     "execution_count": 18,
     "metadata": {},
     "output_type": "execute_result"
    },
    {
     "data": {
      "image/png": "[encoded data removed]",
      "text/plain": [
       "<Figure size 640x480 with 1 Axes>"
      ]
     },
     "metadata": {},
     "output_type": "display_data"
    }
   ],
   "source": [
    "plt.plot(ack.ra, ack.dec)"
   ]
  },
  {
   "cell_type": "code",
   "execution_count": 19,
   "id": "8d60eb7a-8811-4954-8604-e109ab3bbcf6",
   "metadata": {},
   "outputs": [],
   "source": [
    "ack = sc.transform_to(GCRS)"
   ]
  },
  {
   "cell_type": "code",
   "execution_count": 20,
   "id": "2dd60d30-b297-4820-a0b5-fdff381c0a4a",
   "metadata": {},
   "outputs": [
    {
     "data": {
      "text/plain": [
       "[<matplotlib.lines.Line2D at 0x336cc4c50>]"
      ]
     },
     "execution_count": 20,
     "metadata": {},
     "output_type": "execute_result"
    },
    {
     "data": {
      "image/png": "[encoded data removed]",
      "text/plain": [
       "<Figure size 640x480 with 1 Axes>"
      ]
     },
     "metadata": {},
     "output_type": "display_data"
    }
   ],
   "source": [
    "# Ah, there we go, need to go to GCRS\n",
    "plt.plot(ack.ra, ack.dec, 'ko')"
   ]
  },
  {
   "cell_type": "code",
   "execution_count": 21,
   "id": "add97b02-7836-4098-bf65-52f74b96e094",
   "metadata": {},
   "outputs": [
    {
     "data": {
      "text/plain": [
       "<SkyCoord (GCRS: obstime=[2451545.         2451546.00054825 2451547.00109649 ... 2453367.99890351\n",
       " 2453368.99945175 2453370.        ], obsgeoloc=(0., 0., 0.) m, obsgeovel=(0., 0., 0.) m / s): (ra, dec, distance) in (deg, deg, AU)\n",
       "    [(233.8307102 , -58.57827112, 4.13880165),\n",
       "     (234.31865993, -58.71656806, 4.12829715),\n",
       "     (234.80750161, -58.8550869 , 4.11767369), ...,\n",
       "     (302.15233264,  22.13549807, 0.87451274),\n",
       "     (302.83218208,  23.02676496, 0.86364034),\n",
       "     (303.53235781,  23.92666642, 0.85275669)]>"
      ]
     },
     "execution_count": 21,
     "metadata": {},
     "output_type": "execute_result"
    }
   ],
   "source": [
    "# Looks like this is from the center of the earth. Which is probably close enough. \n",
    "ack"
   ]
  },
  {
   "cell_type": "code",
   "execution_count": null,
   "id": "0885fd72-75a7-4a19-a916-03527dd4a2b7",
   "metadata": {},
   "outputs": [],
   "source": [
    "help(get_b"
   ]
  }
 ],
 "metadata": {
  "kernelspec": {
   "display_name": "Python 3 (ipykernel)",
   "language": "python",
   "name": "python3"
  },
  "language_info": {
   "codemirror_mode": {
    "name": "ipython",
    "version": 3
   },
   "file_extension": ".py",
   "mimetype": "text/x-python",
   "name": "python",
   "nbconvert_exporter": "python",
   "pygments_lexer": "ipython3",
   "version": "3.12.8"
  }
 },
 "nbformat": 4,
 "nbformat_minor": 5
}
