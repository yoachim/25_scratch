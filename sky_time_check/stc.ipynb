{
 "cells": [
  {
   "cell_type": "markdown",
   "id": "739f1552-422e-45d2-b14b-e677cff42e3e",
   "metadata": {},
   "source": [
    "This paper:  https://ui.adsabs.harvard.edu/abs/2025MNRAS.541L..47K/abstract\n",
    "\n",
    "says that satellite debris will increase sky brightness. Let's check sun alt at the time they used"
   ]
  },
  {
   "cell_type": "code",
   "execution_count": 2,
   "id": "e1948de2-9faa-42f0-8dc4-41b62e2a6b88",
   "metadata": {},
   "outputs": [],
   "source": [
    "import numpy as np\n",
    "from astropy.coordinates import AltAz, EarthLocation, get_body, get_sun\n",
    "from astropy.time import Time\n",
    "\n",
    "from rubin_scheduler.utils import Site, _angular_separation\n"
   ]
  },
  {
   "cell_type": "code",
   "execution_count": 9,
   "id": "6c8fda53-38c0-4f0c-85aa-f177bc290c20",
   "metadata": {},
   "outputs": [],
   "source": [
    "t = Time(\"2024-08-05T23:13:12\", format='isot', scale='utc')"
   ]
  },
  {
   "cell_type": "code",
   "execution_count": 11,
   "id": "8293f187-4d65-4668-976e-6968ae92ec05",
   "metadata": {},
   "outputs": [],
   "source": [
    "site = Site(\"LSST\")\n",
    "location = EarthLocation(lat=site.latitude, lon=site.longitude, height=site.height)"
   ]
  },
  {
   "cell_type": "code",
   "execution_count": 12,
   "id": "75ea280c-9800-43d6-a50e-ba046c049277",
   "metadata": {},
   "outputs": [],
   "source": [
    "\n",
    "sun = get_sun(t)\n",
    "aa = AltAz(location=location, obstime=t)\n",
    "sun_aa = sun.transform_to(aa)"
   ]
  },
  {
   "cell_type": "code",
   "execution_count": 14,
   "id": "2e5db477-2fd4-4048-9b05-563a75f04bed",
   "metadata": {},
   "outputs": [
    {
     "data": {
      "text/latex": [
       "$-13^\\circ23{}^\\prime50.7904243{}^{\\prime\\prime}$"
      ],
      "text/plain": [
       "<Latitude -13.39744178 deg>"
      ]
     },
     "execution_count": 14,
     "metadata": {},
     "output_type": "execute_result"
    }
   ],
   "source": [
    "sun_aa.alt"
   ]
  },
  {
   "cell_type": "code",
   "execution_count": null,
   "id": "8aaba83a-435a-4c41-a1d0-53374184e40c",
   "metadata": {},
   "outputs": [],
   "source": []
  }
 ],
 "metadata": {
  "kernelspec": {
   "display_name": "Python 3 (ipykernel)",
   "language": "python",
   "name": "python3"
  },
  "language_info": {
   "codemirror_mode": {
    "name": "ipython",
    "version": 3
   },
   "file_extension": ".py",
   "mimetype": "text/x-python",
   "name": "python",
   "nbconvert_exporter": "python",
   "pygments_lexer": "ipython3",
   "version": "3.12.10"
  }
 },
 "nbformat": 4,
 "nbformat_minor": 5
}
