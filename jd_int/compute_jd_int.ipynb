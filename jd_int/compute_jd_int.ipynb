{
 "cells": [
  {
   "cell_type": "code",
   "execution_count": 1,
   "id": "79755ca2-f20b-4d5b-aa40-3b5639f2230c",
   "metadata": {},
   "outputs": [],
   "source": [
    "import numpy as np\n",
    "import sqlite3\n",
    "import pandas as pd\n",
    "from astropy.time import Time"
   ]
  },
  {
   "cell_type": "code",
   "execution_count": 2,
   "id": "4c8f7743-1cc3-413e-88c7-d6110f4188c8",
   "metadata": {},
   "outputs": [],
   "source": [
    "con = sqlite3.connect(\"baseline_v5.0.0_10yrs.db\")\n",
    "df = pd.read_sql(\"select * from observations;\", con)\n",
    "con.close()"
   ]
  },
  {
   "cell_type": "code",
   "execution_count": 3,
   "id": "9f3f4e8d-b3d8-4988-b69b-0977f5e10fa0",
   "metadata": {},
   "outputs": [],
   "source": [
    "int_jd  = np.floor(Time(df[\"observationStartMJD\"], format='mjd', scale='tai').jd)"
   ]
  },
  {
   "cell_type": "code",
   "execution_count": 4,
   "id": "bb202ecb-80f1-4ca2-9b77-f28084899a7d",
   "metadata": {},
   "outputs": [
    {
     "data": {
      "text/plain": [
       "array([2460980., 2460980., 2460980., ..., 2464632., 2464632., 2464632.],\n",
       "      shape=(2048612,))"
      ]
     },
     "execution_count": 4,
     "metadata": {},
     "output_type": "execute_result"
    }
   ],
   "source": [
    "int_jd"
   ]
  },
  {
   "cell_type": "code",
   "execution_count": 5,
   "id": "89726af1-6af8-4a86-8e5c-2f7746fc4303",
   "metadata": {},
   "outputs": [],
   "source": [
    "offset = Time(0, format=\"jd\", scale=\"tai\") - Time(0, format=\"mjd\", scale=\"tai\")"
   ]
  },
  {
   "cell_type": "code",
   "execution_count": 6,
   "id": "c9f9e5b8-b55b-4fa6-a175-972677c07ea9",
   "metadata": {},
   "outputs": [
    {
     "data": {
      "text/plain": [
       "np.float64(-2400000.5)"
      ]
     },
     "execution_count": 6,
     "metadata": {},
     "output_type": "execute_result"
    }
   ],
   "source": [
    "offset.value"
   ]
  },
  {
   "cell_type": "code",
   "execution_count": 7,
   "id": "b5389ac8-3497-4158-8c53-aa1c9ed570a1",
   "metadata": {},
   "outputs": [],
   "source": [
    "int_jd_simple = np.floor(df[\"observationStartMJD\"] - offset.value) "
   ]
  },
  {
   "cell_type": "code",
   "execution_count": 8,
   "id": "aba31f66-942d-4e54-beb0-716e368c71f6",
   "metadata": {},
   "outputs": [
    {
     "data": {
      "text/plain": [
       "0          2460980.0\n",
       "1          2460980.0\n",
       "2          2460980.0\n",
       "3          2460980.0\n",
       "4          2460980.0\n",
       "             ...    \n",
       "2048607    2464632.0\n",
       "2048608    2464632.0\n",
       "2048609    2464632.0\n",
       "2048610    2464632.0\n",
       "2048611    2464632.0\n",
       "Name: observationStartMJD, Length: 2048612, dtype: float64"
      ]
     },
     "execution_count": 8,
     "metadata": {},
     "output_type": "execute_result"
    }
   ],
   "source": [
    "int_jd_simple"
   ]
  },
  {
   "cell_type": "code",
   "execution_count": 9,
   "id": "b0a72b3d-fc67-4ece-95ee-3fc8d3c4d244",
   "metadata": {},
   "outputs": [
    {
     "data": {
      "text/plain": [
       "array([2460980., 2460980., 2460980., ..., 2464632., 2464632., 2464632.],\n",
       "      shape=(2048612,))"
      ]
     },
     "execution_count": 9,
     "metadata": {},
     "output_type": "execute_result"
    }
   ],
   "source": [
    "int_jd"
   ]
  },
  {
   "cell_type": "code",
   "execution_count": 10,
   "id": "de0bb053-e17e-455a-9e24-df88ec6b0783",
   "metadata": {},
   "outputs": [
    {
     "data": {
      "text/plain": [
       "0.0"
      ]
     },
     "execution_count": 10,
     "metadata": {},
     "output_type": "execute_result"
    }
   ],
   "source": [
    "np.max(np.abs(int_jd_simple - int_jd))"
   ]
  },
  {
   "cell_type": "code",
   "execution_count": 11,
   "id": "1f23b78d-1d61-400a-99dd-0048847b9235",
   "metadata": {},
   "outputs": [
    {
     "data": {
      "text/plain": [
       "2460980.0"
      ]
     },
     "execution_count": 11,
     "metadata": {},
     "output_type": "execute_result"
    }
   ],
   "source": [
    "np.min(int_jd - df[\"night\"])"
   ]
  },
  {
   "cell_type": "code",
   "execution_count": 12,
   "id": "901343de-416c-4e98-bfc0-d895d168ecd9",
   "metadata": {},
   "outputs": [
    {
     "data": {
      "text/plain": [
       "2460980.0"
      ]
     },
     "execution_count": 12,
     "metadata": {},
     "output_type": "execute_result"
    }
   ],
   "source": [
    "np.max(int_jd - df[\"night\"])"
   ]
  },
  {
   "cell_type": "code",
   "execution_count": 14,
   "id": "b76a9809-3218-4af5-b282-2910398df4e3",
   "metadata": {},
   "outputs": [],
   "source": [
    "wacky = np.floor(df[\"observationStartMJD\"] - offset.value + 0.5)  "
   ]
  },
  {
   "cell_type": "code",
   "execution_count": 16,
   "id": "a39d3b79-c999-4c97-9d29-e332d32ddbb9",
   "metadata": {},
   "outputs": [
    {
     "data": {
      "text/plain": [
       "2460980.0"
      ]
     },
     "execution_count": 16,
     "metadata": {},
     "output_type": "execute_result"
    }
   ],
   "source": [
    "np.min(wacky - df[\"night\"])"
   ]
  },
  {
   "cell_type": "code",
   "execution_count": 17,
   "id": "a3d43814-e166-4594-9ebf-f2692775cd09",
   "metadata": {},
   "outputs": [
    {
     "data": {
      "text/plain": [
       "2460981.0"
      ]
     },
     "execution_count": 17,
     "metadata": {},
     "output_type": "execute_result"
    }
   ],
   "source": [
    "np.max(wacky - df[\"night\"])"
   ]
  },
  {
   "cell_type": "code",
   "execution_count": null,
   "id": "3684fddf-93b8-44fe-b690-facf2d357a76",
   "metadata": {},
   "outputs": [],
   "source": [
    "# Oh, so int_jd can sub for night because Chile is at a convienient longitude. "
   ]
  }
 ],
 "metadata": {
  "kernelspec": {
   "display_name": "Python 3 (ipykernel)",
   "language": "python",
   "name": "python3"
  },
  "language_info": {
   "codemirror_mode": {
    "name": "ipython",
    "version": 3
   },
   "file_extension": ".py",
   "mimetype": "text/x-python",
   "name": "python",
   "nbconvert_exporter": "python",
   "pygments_lexer": "ipython3",
   "version": "3.12.10"
  }
 },
 "nbformat": 4,
 "nbformat_minor": 5
}
