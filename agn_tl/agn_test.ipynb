{
 "cells": [
  {
   "cell_type": "markdown",
   "id": "a0535713-df6c-4c63-802e-bc86a2e24e82",
   "metadata": {},
   "source": [
    "Test if AGN metrics can return a worse value even if they are given more data"
   ]
  },
  {
   "cell_type": "code",
   "execution_count": 1,
   "id": "8a415cd5-c69d-4eb2-a323-454d4145b5cd",
   "metadata": {},
   "outputs": [],
   "source": [
    "import numpy as np\n",
    "import rubin_sim.maf.metrics as metrics\n",
    "\n",
    "import os\n",
    "import numpy as np\n",
    "import pandas as pd\n",
    "import matplotlib.pyplot as plt\n",
    "%matplotlib inline\n",
    "import healpy as hp\n",
    "\n",
    "import rubin_sim.maf as maf\n",
    "import rubin_scheduler.utils as rsUtils\n",
    "from rubin_sim.data import get_baseline\n"
   ]
  },
  {
   "cell_type": "code",
   "execution_count": 2,
   "id": "3fa649a5-7a6b-440c-b077-b4c388bae981",
   "metadata": {},
   "outputs": [],
   "source": [
    "baseline_file = get_baseline()\n",
    "name = os.path.basename(baseline_file).replace('.db','')\n",
    "out_dir = 'temp'\n",
    "results_db = maf.db.ResultsDb(out_dir=out_dir)\n",
    "\n",
    "bundle_list = []\n",
    "# The point on the sky we would like to get visits for\n",
    "ra = [0.]\n",
    "dec = [-20]\n",
    "\n",
    "\n",
    "# Say we just want to pass data through, not compute anything. Documentation on \n",
    "# columns at:  https://rubin-sim.lsst.io/rs_scheduler/output_schema.html\n",
    "metric = maf.metrics.PassMetric(cols=['filter', 'observationStartMJD', 'fiveSigmaDepth', 'visitExposureTime'])\n",
    "# Select all the visits. Could be something like \"filter='r'\", \"night < 365\", etc\n",
    "sql = ''\n",
    "slicer = maf.slicers.UserPointsSlicer(ra=ra, dec=dec)\n",
    "bundle_list.append(maf.MetricBundle(metric, slicer, sql, run_name=name))\n",
    "\n",
    "bd = maf.metricBundles.make_bundles_dict_from_list(bundle_list)\n",
    "bg = maf.metricBundles.MetricBundleGroup(bd, baseline_file, out_dir=out_dir, results_db=results_db)\n",
    "bg.run_all()\n",
    "\n",
    "\n",
    "data_slice = bundle_list[0].metric_values[0]\n"
   ]
  },
  {
   "cell_type": "code",
   "execution_count": 3,
   "id": "8f12dab3-f15a-40de-b53a-0b6438de1541",
   "metadata": {},
   "outputs": [],
   "source": [
    "agn_m5 = {\"u\": 22.89, \"g\": 23.94, \"r\": 23.5, \"i\": 22.93, \"z\": 22.28, \"y\": 21.5}\n",
    "f = \"g\"\n",
    "m = metrics.SFUncertMetric(\n",
    "            mag=agn_m5[f],\n",
    "            bins=np.logspace(0, np.log10(3650), 16),\n",
    "            metric_name=\"AGN SF_uncert\",\n",
    "        )"
   ]
  },
  {
   "cell_type": "code",
   "execution_count": 4,
   "id": "de8041b1-796c-4c17-963c-ed5434133fa5",
   "metadata": {},
   "outputs": [
    {
     "data": {
      "text/plain": [
       "np.float64(0.03112752290577717)"
      ]
     },
     "execution_count": 4,
     "metadata": {},
     "output_type": "execute_result"
    }
   ],
   "source": [
    "# run the metric with all the data\n",
    "in_g = np.where(data_slice[\"filter\"] == \"g\")\n",
    "sp = {}\n",
    "sp[\"ebv\"] = 0.\n",
    "result_all = m.run(data_slice[in_g], slice_point=sp)\n",
    "result_all"
   ]
  },
  {
   "cell_type": "code",
   "execution_count": 5,
   "id": "3f1efede-16ea-4b95-82be-24c1a55cd737",
   "metadata": {},
   "outputs": [
    {
     "data": {
      "text/plain": [
       "np.float64(0.031097001346329995)"
      ]
     },
     "execution_count": 5,
     "metadata": {},
     "output_type": "execute_result"
    }
   ],
   "source": [
    "# run excluding the fist point\n",
    "sp = {}\n",
    "sp[\"ebv\"] = 0.\n",
    "result_m1 = m.run(data_slice[in_g][1:], slice_point=sp)\n",
    "result_m1"
   ]
  },
  {
   "cell_type": "code",
   "execution_count": 6,
   "id": "f07087fe-9882-4146-8528-2b730bcb60e8",
   "metadata": {},
   "outputs": [
    {
     "ename": "AssertionError",
     "evalue": "",
     "output_type": "error",
     "traceback": [
      "\u001b[31m---------------------------------------------------------------------------\u001b[39m",
      "\u001b[31mAssertionError\u001b[39m                            Traceback (most recent call last)",
      "\u001b[36mCell\u001b[39m\u001b[36m \u001b[39m\u001b[32mIn[6]\u001b[39m\u001b[32m, line 2\u001b[39m\n\u001b[32m      1\u001b[39m \u001b[38;5;66;03m# This is computing an uncertainty, so adding data should make it go down\u001b[39;00m\n\u001b[32m----> \u001b[39m\u001b[32m2\u001b[39m \u001b[38;5;28;01massert\u001b[39;00m result_all < result_m1\n",
      "\u001b[31mAssertionError\u001b[39m: "
     ]
    }
   ],
   "source": [
    "# This is computing an uncertainty, so adding data should make it go down\n",
    "assert result_all < result_m1"
   ]
  },
  {
   "cell_type": "code",
   "execution_count": 7,
   "id": "dc793317-6830-4779-82ee-0c22b0d05107",
   "metadata": {},
   "outputs": [],
   "source": [
    "# and we have an error, this metric is bugged"
   ]
  },
  {
   "cell_type": "code",
   "execution_count": 8,
   "id": "051bd18c-4dab-4991-994b-d5fee2bf5189",
   "metadata": {},
   "outputs": [],
   "source": [
    "nquist_threshold = 2.2\n",
    "lag = 100\n",
    "m = metrics.AgnTimeLagMetric(threshold=nquist_threshold, lag=lag)"
   ]
  },
  {
   "cell_type": "code",
   "execution_count": 9,
   "id": "a54dab87-8cd6-45c4-98a3-5798c1424c20",
   "metadata": {},
   "outputs": [
    {
     "data": {
      "text/plain": [
       "np.float64(10.717038813302244)"
      ]
     },
     "execution_count": 9,
     "metadata": {},
     "output_type": "execute_result"
    }
   ],
   "source": [
    "m.run(data_slice, slice_point=sp)"
   ]
  },
  {
   "cell_type": "code",
   "execution_count": 10,
   "id": "4d86cd21-7af6-4ebf-85d0-8f46ebc3ec52",
   "metadata": {},
   "outputs": [],
   "source": [
    "# make a larger data_set\n",
    "data_2 = data_slice.copy()\n",
    "data_2[\"observationStartMJD\"] = data_2[\"observationStartMJD\"].max() + np.arange(0,data_2.size)*5\n",
    "\n",
    "data_large = np.concatenate([data_slice, data_2])\n"
   ]
  },
  {
   "cell_type": "code",
   "execution_count": 11,
   "id": "04d624a9-8ddc-4577-86be-3cdea24d98e6",
   "metadata": {},
   "outputs": [
    {
     "data": {
      "text/plain": [
       "np.float64(10.35274278975786)"
      ]
     },
     "execution_count": 11,
     "metadata": {},
     "output_type": "execute_result"
    }
   ],
   "source": [
    "m.run(data_large, slice_point=sp)"
   ]
  },
  {
   "cell_type": "code",
   "execution_count": null,
   "id": "4366a14f-0e87-4774-a56e-fc2603d00351",
   "metadata": {},
   "outputs": [],
   "source": []
  }
 ],
 "metadata": {
  "kernelspec": {
   "display_name": "Python 3 (ipykernel)",
   "language": "python",
   "name": "python3"
  },
  "language_info": {
   "codemirror_mode": {
    "name": "ipython",
    "version": 3
   },
   "file_extension": ".py",
   "mimetype": "text/x-python",
   "name": "python",
   "nbconvert_exporter": "python",
   "pygments_lexer": "ipython3",
   "version": "3.12.10"
  }
 },
 "nbformat": 4,
 "nbformat_minor": 5
}
