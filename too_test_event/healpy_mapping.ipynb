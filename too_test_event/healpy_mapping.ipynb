{
 "cells": [
  {
   "cell_type": "code",
   "execution_count": 1,
   "id": "3bd57888-87d3-4b49-a535-c6135aea58c8",
   "metadata": {},
   "outputs": [],
   "source": [
    "from rubin_scheduler.scheduler.example import example_scheduler\n",
    "import numpy as np\n",
    "import healpy as hp\n",
    "\n",
    "from rubin_scheduler.scheduler.utils import SimTargetooServer, TargetoO\n",
    "from rubin_scheduler.scheduler.model_observatory import ModelObservatory\n",
    "from rubin_scheduler.scheduler.surveys import ToOScriptedSurvey\n",
    "\n",
    "from rubin_scheduler.scheduler import sim_runner\n",
    "\n",
    "import matplotlib.pylab as plt\n",
    "%matplotlib inline"
   ]
  },
  {
   "cell_type": "code",
   "execution_count": 2,
   "id": "95db5e58-79b8-46ce-b463-75d1e94276aa",
   "metadata": {},
   "outputs": [],
   "source": [
    "nside = 32\n",
    "observatory = ModelObservatory(nside=nside,)# sim_to_o=sim_to_o)"
   ]
  },
  {
   "cell_type": "code",
   "execution_count": 3,
   "id": "cb7ebbd8-eb3a-4083-894b-08ca62a5c3bf",
   "metadata": {},
   "outputs": [],
   "source": [
    "# Make a ToO event\n",
    "\n",
    "# Make a healpix map, can be any nside\n",
    "footprint = np.zeros(hp.nside2npix(nside))\n",
    "# Set some healpix near the pole to be where to observe\n",
    "footprint[-2:] = 1\n",
    "\n",
    "# Set the event to go off at the start of the survey\n",
    "event_start = observatory.mjd\n",
    "duration = 20 # Days\n",
    "\n",
    "# Need to set a nominal center for the event\n",
    "# could just take mean of RA,dec HEALpix map I suppose\n",
    "ra_deg = 0.\n",
    "dec_deg = -90.\n",
    "\n",
    "# ToO type. Should probabably document the \n",
    "# options for this somewhere.\n",
    "too_type = \"\" \n",
    "\n",
    "# Unique int ID for each event\n",
    "target_id = 100\n",
    "\n",
    "event = TargetoO(\n",
    "                target_id,\n",
    "                footprint,\n",
    "                event_start,\n",
    "                duration,\n",
    "                ra_rad_center=np.radians(ra_deg),\n",
    "                dec_rad_center=np.radians(dec_deg),\n",
    "                too_type=too_type)\n",
    "# Thing to pass to the ModelObservatory so it will send out\n",
    "# the ToO alert in the Conditions object\n",
    "sim_to_o = SimTargetooServer([event])"
   ]
  },
  {
   "cell_type": "code",
   "execution_count": 4,
   "id": "917d671d-9163-4f28-b6a2-f48301a07edf",
   "metadata": {},
   "outputs": [
    {
     "data": {
      "image/png": "[encoded data removed]",
      "text/plain": [
       "<Figure size 850x540 with 2 Axes>"
      ]
     },
     "metadata": {},
     "output_type": "display_data"
    }
   ],
   "source": [
    "hp.mollview(footprint)"
   ]
  },
  {
   "cell_type": "code",
   "execution_count": 5,
   "id": "a055d41b-599f-4838-bf7c-c3cce8143760",
   "metadata": {},
   "outputs": [],
   "source": [
    "# make a ToO survey object\n",
    "survey = ToOScriptedSurvey([], times=[1], bands_at_times=[\"g\"], nvis=[1], exptimes=[30.],\n",
    "                          followup_footprint=np.ones(hp.nside2npix(nside)),\n",
    "                          HA_min=0, HA_max=24)"
   ]
  },
  {
   "cell_type": "code",
   "execution_count": 6,
   "id": "9b52d100-6ba8-4882-b143-24e206d5e26e",
   "metadata": {},
   "outputs": [],
   "source": [
    "conditions = observatory.return_conditions()\n",
    "conditions.targets_of_opportunity = [event]"
   ]
  },
  {
   "cell_type": "code",
   "execution_count": 7,
   "id": "7a6a657f-36f3-469d-9839-a73d51289466",
   "metadata": {},
   "outputs": [
    {
     "data": {
      "text/plain": [
       "-inf"
      ]
     },
     "execution_count": 7,
     "metadata": {},
     "output_type": "execute_result"
    }
   ],
   "source": [
    "survey.calc_reward_function(conditions)"
   ]
  },
  {
   "cell_type": "code",
   "execution_count": 8,
   "id": "7ba5448e-3514-4cbe-bf4c-b6e773605a62",
   "metadata": {},
   "outputs": [
    {
     "data": {
      "text/plain": [
       "ScheduledObservationArray([(0, 4.27017118, -1.51873024, 60980.12559078, 60980.20892411, 30., 'g', '', 0., 0., 0., 0., 2, 'ToO, 100_t1_i0, 1', 'ToO_i0', '', '', 0.04166667, 0.00872665, 0.43633231, 1.48352986, 24., 0., 0., 0., False),\n",
       "                           (0, 5.42705026, -1.52295334, 60980.12559078, 60980.20892411, 30., 'g', '', 0., 0., 0., 0., 2, 'ToO, 100_t1_i0, 2', 'ToO_i0', '', '', 0.04166667, 0.00872665, 0.43633231, 1.48352986, 24., 0., 0., 0., False)],\n",
       "                          dtype=[('ID', '<i8'), ('RA', '<f8'), ('dec', '<f8'), ('mjd', '<f8'), ('flush_by_mjd', '<f8'), ('exptime', '<f8'), ('band', '<U1'), ('filter', '<U40'), ('rotSkyPos', '<f8'), ('rotTelPos', '<f8'), ('rotTelPos_backup', '<f8'), ('rotSkyPos_desired', '<f8'), ('nexp', '<i8'), ('scheduler_note', '<U40'), ('target_name', '<U40'), ('science_program', '<U40'), ('observation_reason', '<U40'), ('mjd_tol', '<f8'), ('dist_tol', '<f8'), ('alt_min', '<f8'), ('alt_max', '<f8'), ('HA_max', '<f8'), ('HA_min', '<f8'), ('sun_alt_max', '<f8'), ('moon_min_distance', '<f8'), ('observed', '?')])"
      ]
     },
     "execution_count": 8,
     "metadata": {},
     "output_type": "execute_result"
    }
   ],
   "source": [
    "survey.obs_wanted"
   ]
  },
  {
   "cell_type": "code",
   "execution_count": null,
   "id": "d01267ff-645a-46fe-8a72-912ad2d8b0be",
   "metadata": {},
   "outputs": [],
   "source": []
  }
 ],
 "metadata": {
  "kernelspec": {
   "display_name": "Python 3 (ipykernel)",
   "language": "python",
   "name": "python3"
  },
  "language_info": {
   "codemirror_mode": {
    "name": "ipython",
    "version": 3
   },
   "file_extension": ".py",
   "mimetype": "text/x-python",
   "name": "python",
   "nbconvert_exporter": "python",
   "pygments_lexer": "ipython3",
   "version": "3.12.10"
  }
 },
 "nbformat": 4,
 "nbformat_minor": 5
}
