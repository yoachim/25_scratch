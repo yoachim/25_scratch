{
 "cells": [
  {
   "cell_type": "code",
   "execution_count": 1,
   "id": "f2cec02a-58f7-48cd-9ec0-406e484f56f1",
   "metadata": {},
   "outputs": [],
   "source": [
    "import os\n",
    "import pathlib\n",
    "import unittest\n",
    "\n",
    "import healpy as hp\n",
    "import numpy as np\n",
    "\n",
    "from rubin_scheduler.data import get_data_dir\n",
    "from rubin_scheduler.scheduler import sim_runner\n",
    "from rubin_scheduler.scheduler.example import example_scheduler, run_sched\n",
    "from rubin_scheduler.scheduler.model_observatory import KinemModel, ModelObservatory\n",
    "from rubin_scheduler.scheduler.utils import (\n",
    "    ObservationArray,\n",
    "    ScheduledObservationArray,\n",
    "    SchemaConverter,\n",
    "    ecliptic_area,\n",
    "    make_rolling_footprints,\n",
    "    restore_scheduler,\n",
    "    run_info_table,\n",
    "    season_calc,\n",
    ")\n",
    "from rubin_scheduler.utils import SURVEY_START_MJD\n",
    "\n"
   ]
  },
  {
   "cell_type": "code",
   "execution_count": null,
   "id": "aabf9d79-7c9b-48e9-a859-53f9bd510628",
   "metadata": {},
   "outputs": [],
   "source": []
  },
  {
   "cell_type": "code",
   "execution_count": 2,
   "id": "1cfbfe88-918f-499a-8f6c-3c48e9177068",
   "metadata": {},
   "outputs": [
    {
     "name": "stderr",
     "output_type": "stream",
     "text": [
      "/Users/yoachim/anaconda3/envs/rubin12_b/lib/python3.12/site-packages/erfa/core.py:133: ErfaWarning: ERFA function \"utctai\" yielded 463 of \"dubious year (Note 3)\"\n",
      "  warn(f'ERFA function \"{func_name}\" yielded {wmsg}', ErfaWarning)\n",
      "/Users/yoachim/anaconda3/envs/rubin12_b/lib/python3.12/site-packages/erfa/core.py:133: ErfaWarning: ERFA function \"taiutc\" yielded 463 of \"dubious year (Note 4)\"\n",
      "  warn(f'ERFA function \"{func_name}\" yielded {wmsg}', ErfaWarning)\n",
      "/Users/yoachim/anaconda3/envs/rubin12_b/lib/python3.12/site-packages/erfa/core.py:133: ErfaWarning: ERFA function \"utctai\" yielded 162 of \"dubious year (Note 3)\"\n",
      "  warn(f'ERFA function \"{func_name}\" yielded {wmsg}', ErfaWarning)\n",
      "/Users/yoachim/anaconda3/envs/rubin12_b/lib/python3.12/site-packages/erfa/core.py:133: ErfaWarning: ERFA function \"taiutc\" yielded 162 of \"dubious year (Note 4)\"\n",
      "  warn(f'ERFA function \"{func_name}\" yielded {wmsg}', ErfaWarning)\n",
      "/Users/yoachim/git_repos/rubin_scheduler/rubin_scheduler/utils/healpy_utils.py:339: RuntimeWarning: All-NaN slice encountered\n",
      "  indx = np.where(in_map[current_neighbors] == np.nanmax(in_map[current_neighbors]))[0]\n",
      "/Users/yoachim/git_repos/rubin_scheduler/rubin_scheduler/utils/healpy_utils.py:342: UserWarning: Can not connect to any more pixels.\n",
      "  warnings.warn(\"Can not connect to any more pixels.\")\n",
      "/Users/yoachim/git_repos/rubin_scheduler/rubin_scheduler/skybrightness_pre/sky_model_pre.py:359: UserWarning: Requested MJD between sunrise and sunset, returning closest maps\n",
      "  warnings.warn(\"Requested MJD between sunrise and sunset, returning closest maps\")\n",
      "/Users/yoachim/git_repos/rubin_scheduler/rubin_scheduler/utils/healpy_utils.py:339: RuntimeWarning: All-NaN slice encountered\n",
      "  indx = np.where(in_map[current_neighbors] == np.nanmax(in_map[current_neighbors]))[0]\n",
      "/Users/yoachim/git_repos/rubin_scheduler/rubin_scheduler/utils/healpy_utils.py:342: UserWarning: Can not connect to any more pixels.\n",
      "  warnings.warn(\"Can not connect to any more pixels.\")\n"
     ]
    },
    {
     "name": "stdout",
     "output_type": "stream",
     "text": [
      "Skipped 0 observations\n",
      "Flushed 0 observations from queue for being stale\n",
      "Completed 3000 observations\n",
      "ran in 0 min = 0.0 hours\n"
     ]
    }
   ],
   "source": [
    "\"\"\"Test we can restore a scheduler properly\"\"\"\n",
    "# MJD set so it's in test data range\n",
    "mjd_start = SURVEY_START_MJD\n",
    "n_visit_limit = 3000\n",
    "\n",
    "scheduler = example_scheduler(survey_start_mjd=mjd_start)\n",
    "\n",
    "mo = ModelObservatory(mjd_start=mjd_start, downtimes=\"ideal\", cloud_data=\"ideal\")\n",
    "# Never load too many nights of sky\n",
    "mo.sky_model.load_length = 10.0\n",
    "mo, scheduler, observations = sim_runner(\n",
    "    mo,\n",
    "    scheduler,\n",
    "    sim_duration=30.0,\n",
    "    verbose=False,\n",
    "    filename=None,\n",
    "    n_visit_limit=n_visit_limit,\n",
    ")"
   ]
  },
  {
   "cell_type": "code",
   "execution_count": 3,
   "id": "2e4cd4da-1dfd-4c2c-b879-1b5fd31eee89",
   "metadata": {},
   "outputs": [
    {
     "name": "stderr",
     "output_type": "stream",
     "text": [
      "/Users/yoachim/anaconda3/envs/rubin12_b/lib/python3.12/site-packages/erfa/core.py:133: ErfaWarning: ERFA function \"utctai\" yielded 463 of \"dubious year (Note 3)\"\n",
      "  warn(f'ERFA function \"{func_name}\" yielded {wmsg}', ErfaWarning)\n",
      "/Users/yoachim/anaconda3/envs/rubin12_b/lib/python3.12/site-packages/erfa/core.py:133: ErfaWarning: ERFA function \"taiutc\" yielded 463 of \"dubious year (Note 4)\"\n",
      "  warn(f'ERFA function \"{func_name}\" yielded {wmsg}', ErfaWarning)\n",
      "/Users/yoachim/anaconda3/envs/rubin12_b/lib/python3.12/site-packages/erfa/core.py:133: ErfaWarning: ERFA function \"utctai\" yielded 162 of \"dubious year (Note 3)\"\n",
      "  warn(f'ERFA function \"{func_name}\" yielded {wmsg}', ErfaWarning)\n",
      "/Users/yoachim/anaconda3/envs/rubin12_b/lib/python3.12/site-packages/erfa/core.py:133: ErfaWarning: ERFA function \"taiutc\" yielded 162 of \"dubious year (Note 4)\"\n",
      "  warn(f'ERFA function \"{func_name}\" yielded {wmsg}', ErfaWarning)\n"
     ]
    }
   ],
   "source": [
    "# Won't be exact if we restart in the middle of a blob sequence\n",
    "# since the queue isn't reconstructed.\n",
    "# Also, any scripted observations that get generated\n",
    "# during the night (e.g., long gaps observations) will get lost,\n",
    "# so need to restart on a new night to ensure identical results.\n",
    "\n",
    "nd = np.zeros(observations.size)\n",
    "nd[1:] = np.diff(observations[\"night\"])\n",
    "\n",
    "break_indx = np.min(np.where((observations[\"ID\"] >= n_visit_limit / 2.0) & (nd != 0))[0])\n",
    "new_n_limit = n_visit_limit - break_indx\n",
    "\n",
    "new_mo = ModelObservatory(mjd_start=mjd_start, downtimes=\"ideal\", cloud_data=\"ideal\")\n",
    "# Never load too much sky\n",
    "new_mo.sky_model.load_length = 10.0\n",
    "new_sched = example_scheduler(survey_start_mjd=mjd_start)\n",
    "\n",
    "# Restore some of the observations\n",
    "new_sched, new_mo = restore_scheduler(break_indx - 1, new_sched, new_mo, observations, fast=False)\n",
    "\n"
   ]
  },
  {
   "cell_type": "code",
   "execution_count": 4,
   "id": "1aa9a4b5-63b5-4bd7-b64e-f8c121c3695a",
   "metadata": {},
   "outputs": [
    {
     "data": {
      "text/plain": [
       "np.int64(2212)"
      ]
     },
     "execution_count": 4,
     "metadata": {},
     "output_type": "execute_result"
    }
   ],
   "source": [
    "new_sched.target_id_counter"
   ]
  },
  {
   "cell_type": "code",
   "execution_count": 5,
   "id": "3a6474dd-88d4-4947-94c5-1219894212af",
   "metadata": {},
   "outputs": [
    {
     "data": {
      "text/plain": [
       "np.int64(1641)"
      ]
     },
     "execution_count": 5,
     "metadata": {},
     "output_type": "execute_result"
    }
   ],
   "source": [
    "observations[break_indx][\"ID\"]"
   ]
  },
  {
   "cell_type": "code",
   "execution_count": 6,
   "id": "cde12527-41a9-40db-a1dc-0e414c040f18",
   "metadata": {},
   "outputs": [
    {
     "name": "stderr",
     "output_type": "stream",
     "text": [
      "/Users/yoachim/git_repos/rubin_scheduler/rubin_scheduler/skybrightness_pre/sky_model_pre.py:359: UserWarning: Requested MJD between sunrise and sunset, returning closest maps\n",
      "  warnings.warn(\"Requested MJD between sunrise and sunset, returning closest maps\")\n",
      "/Users/yoachim/git_repos/rubin_scheduler/rubin_scheduler/utils/healpy_utils.py:339: RuntimeWarning: All-NaN slice encountered\n",
      "  indx = np.where(in_map[current_neighbors] == np.nanmax(in_map[current_neighbors]))[0]\n",
      "/Users/yoachim/git_repos/rubin_scheduler/rubin_scheduler/utils/healpy_utils.py:342: UserWarning: Can not connect to any more pixels.\n",
      "  warnings.warn(\"Can not connect to any more pixels.\")\n"
     ]
    },
    {
     "name": "stdout",
     "output_type": "stream",
     "text": [
      "Skipped 0 observations\n",
      "Flushed 0 observations from queue for being stale\n",
      "Completed 1359 observations\n",
      "ran in 0 min = 0.0 hours\n"
     ]
    }
   ],
   "source": [
    "# Simulate ahead and confirm that it behaves the same\n",
    "# as running straight through\n",
    "new_mo, new_sched, new_obs = sim_runner(\n",
    "    new_mo,\n",
    "    new_sched,\n",
    "    sim_duration=20.0,\n",
    "    verbose=False,\n",
    "    filename=None,\n",
    "    n_visit_limit=new_n_limit,\n",
    ")"
   ]
  },
  {
   "cell_type": "code",
   "execution_count": 7,
   "id": "ab17c49d-d1b8-4f9f-8f54-0997345c2191",
   "metadata": {},
   "outputs": [],
   "source": [
    "# Manually fix the target_id if needed\n",
    "new_obs[\"target_id\"] = observations[break_indx:][\"target_id\"]\n",
    "\n",
    "# Check that observations taken after restart match those from\n",
    "# before Jenkins can be bad at comparing things, so if it thinks\n",
    "# they aren't the same, check column-by-column to double check\n",
    "if not np.all(new_obs == observations[break_indx:]):\n",
    "    names = new_obs.dtype.names\n",
    "    for name in names:\n",
    "        # If it's a string\n",
    "        if new_obs[name].dtype == \"<U40\":\n",
    "            assert np.all(new_obs[name] == observations[break_indx:][name])\n",
    "        # Otherwise should be number-like\n",
    "        else:\n",
    "            assert np.allclose(new_obs[name], observations[break_indx:][name])\n",
    "\n",
    "# Didn't need to go by column, the observations after restart\n",
    "# match the ones that were taken all at once.\n",
    "else:\n",
    "    assert np.all(new_obs == observations[break_indx:])\n",
    "\n",
    "\n",
    "\n"
   ]
  },
  {
   "cell_type": "code",
   "execution_count": 8,
   "id": "55f9f790-02ed-4f22-a6cc-490d641839a2",
   "metadata": {},
   "outputs": [
    {
     "data": {
      "text/plain": [
       "ObservationArray([2212, 2213, 2214, ..., 4194, 4195, 4196], shape=(1359,))"
      ]
     },
     "execution_count": 8,
     "metadata": {},
     "output_type": "execute_result"
    }
   ],
   "source": [
    "new_obs[\"target_id\"] #- observations[break_indx:][\"RA\"]"
   ]
  },
  {
   "cell_type": "code",
   "execution_count": 9,
   "id": "8f006e9a-f5ec-4940-aeae-a8b6cac8fdb7",
   "metadata": {},
   "outputs": [
    {
     "data": {
      "text/plain": [
       "ObservationArray([1641, 1642, 1643, ..., 2997, 2998, 2999], shape=(1359,))"
      ]
     },
     "execution_count": 9,
     "metadata": {},
     "output_type": "execute_result"
    }
   ],
   "source": [
    "new_obs[\"ID\"]"
   ]
  },
  {
   "cell_type": "code",
   "execution_count": 10,
   "id": "f4f353ad-f77b-49f0-93c4-a8ec58790338",
   "metadata": {},
   "outputs": [
    {
     "data": {
      "text/plain": [
       "ObservationArray([2212, 2213, 2214, ..., 4194, 4195, 4196], shape=(1359,))"
      ]
     },
     "execution_count": 10,
     "metadata": {},
     "output_type": "execute_result"
    }
   ],
   "source": [
    "observations[break_indx:][\"target_id\"]"
   ]
  },
  {
   "cell_type": "code",
   "execution_count": 11,
   "id": "fe139fe7-31ab-4edf-902a-dfc268fa7d56",
   "metadata": {},
   "outputs": [
    {
     "name": "stderr",
     "output_type": "stream",
     "text": [
      "/Users/yoachim/anaconda3/envs/rubin12_b/lib/python3.12/site-packages/erfa/core.py:133: ErfaWarning: ERFA function \"utctai\" yielded 463 of \"dubious year (Note 3)\"\n",
      "  warn(f'ERFA function \"{func_name}\" yielded {wmsg}', ErfaWarning)\n",
      "/Users/yoachim/anaconda3/envs/rubin12_b/lib/python3.12/site-packages/erfa/core.py:133: ErfaWarning: ERFA function \"taiutc\" yielded 463 of \"dubious year (Note 4)\"\n",
      "  warn(f'ERFA function \"{func_name}\" yielded {wmsg}', ErfaWarning)\n",
      "/Users/yoachim/anaconda3/envs/rubin12_b/lib/python3.12/site-packages/erfa/core.py:133: ErfaWarning: ERFA function \"utctai\" yielded 162 of \"dubious year (Note 3)\"\n",
      "  warn(f'ERFA function \"{func_name}\" yielded {wmsg}', ErfaWarning)\n",
      "/Users/yoachim/anaconda3/envs/rubin12_b/lib/python3.12/site-packages/erfa/core.py:133: ErfaWarning: ERFA function \"taiutc\" yielded 162 of \"dubious year (Note 4)\"\n",
      "  warn(f'ERFA function \"{func_name}\" yielded {wmsg}', ErfaWarning)\n",
      "/Users/yoachim/git_repos/rubin_scheduler/rubin_scheduler/skybrightness_pre/sky_model_pre.py:359: UserWarning: Requested MJD between sunrise and sunset, returning closest maps\n",
      "  warnings.warn(\"Requested MJD between sunrise and sunset, returning closest maps\")\n",
      "/Users/yoachim/git_repos/rubin_scheduler/rubin_scheduler/utils/healpy_utils.py:339: RuntimeWarning: All-NaN slice encountered\n",
      "  indx = np.where(in_map[current_neighbors] == np.nanmax(in_map[current_neighbors]))[0]\n",
      "/Users/yoachim/git_repos/rubin_scheduler/rubin_scheduler/utils/healpy_utils.py:342: UserWarning: Can not connect to any more pixels.\n",
      "  warnings.warn(\"Can not connect to any more pixels.\")\n"
     ]
    },
    {
     "name": "stdout",
     "output_type": "stream",
     "text": [
      "Skipped 0 observations\n",
      "Flushed 0 observations from queue for being stale\n",
      "Completed 1359 observations\n",
      "ran in 0 min = 0.0 hours\n"
     ]
    }
   ],
   "source": [
    "# And again, but this time using the fast array restore\n",
    "new_mo = ModelObservatory(mjd_start=mjd_start, downtimes=\"ideal\", cloud_data=\"ideal\")\n",
    "new_mo.sky_model.load_length = 10.0\n",
    "new_sched = example_scheduler(survey_start_mjd=mjd_start)\n",
    "new_sched, new_mo = restore_scheduler(break_indx - 1, new_sched, new_mo, observations, fast=True)\n",
    "# Simulate ahead and confirm that it behaves the same as\n",
    "# running straight through\n",
    "new_mo, new_sched, new_obs_fast = sim_runner(\n",
    "    new_mo,\n",
    "    new_sched,\n",
    "    sim_duration=20.0,\n",
    "    verbose=False,\n",
    "    filename=None,\n",
    "    n_visit_limit=new_n_limit,\n",
    ")"
   ]
  },
  {
   "cell_type": "code",
   "execution_count": 12,
   "id": "42049e97-bbc2-41d4-91ff-6eb6d675b25d",
   "metadata": {},
   "outputs": [
    {
     "ename": "AssertionError",
     "evalue": "",
     "output_type": "error",
     "traceback": [
      "\u001b[31m---------------------------------------------------------------------------\u001b[39m",
      "\u001b[31mAssertionError\u001b[39m                            Traceback (most recent call last)",
      "\u001b[36mCell\u001b[39m\u001b[36m \u001b[39m\u001b[32mIn[12]\u001b[39m\u001b[32m, line 15\u001b[39m\n\u001b[32m     12\u001b[39m             \u001b[38;5;28;01massert\u001b[39;00m np.all(new_obs_fast[name] == observations[break_indx:][name])\n\u001b[32m     13\u001b[39m         \u001b[38;5;66;03m# Otherwise should be number-like\u001b[39;00m\n\u001b[32m     14\u001b[39m         \u001b[38;5;28;01melse\u001b[39;00m:\n\u001b[32m---> \u001b[39m\u001b[32m15\u001b[39m             \u001b[38;5;28;01massert\u001b[39;00m np.allclose(new_obs_fast[name], observations[break_indx:][name])\n\u001b[32m     16\u001b[39m \u001b[38;5;66;03m# Didn't need to go by column, the observations after restart\u001b[39;00m\n\u001b[32m     17\u001b[39m \u001b[38;5;66;03m# match the ones that were taken all at once.\u001b[39;00m\n\u001b[32m     18\u001b[39m \u001b[38;5;28;01melse\u001b[39;00m:\n\u001b[32m     19\u001b[39m     \u001b[38;5;28;01massert\u001b[39;00m np.all(new_obs_fast == observations[break_indx:])\n",
      "\u001b[31mAssertionError\u001b[39m: "
     ]
    }
   ],
   "source": [
    "# Manually fix the target_id if needed\n",
    "new_obs[\"target_id\"] = observations[break_indx:][\"target_id\"]\n",
    "# Check that observations taken after restart match those\n",
    "# from before Jenkins can be bad at comparing things, so if\n",
    "# it thinks they aren't the same, check column-by-column to\n",
    "# double check\n",
    "if not np.all(new_obs_fast == observations[break_indx:]):\n",
    "    names = new_obs_fast.dtype.names\n",
    "    for name in names:\n",
    "        # If it's a string\n",
    "        if new_obs_fast[name].dtype == \"<U40\":\n",
    "            assert np.all(new_obs_fast[name] == observations[break_indx:][name])\n",
    "        # Otherwise should be number-like\n",
    "        else:\n",
    "            assert np.allclose(new_obs_fast[name], observations[break_indx:][name])\n",
    "# Didn't need to go by column, the observations after restart\n",
    "# match the ones that were taken all at once.\n",
    "else:\n",
    "    assert np.all(new_obs_fast == observations[break_indx:])"
   ]
  },
  {
   "cell_type": "code",
   "execution_count": 13,
   "id": "86779ebb-470c-4385-ac9b-08c089090e6e",
   "metadata": {},
   "outputs": [
    {
     "data": {
      "text/plain": [
       "'target_id'"
      ]
     },
     "execution_count": 13,
     "metadata": {},
     "output_type": "execute_result"
    }
   ],
   "source": [
    "name"
   ]
  },
  {
   "cell_type": "code",
   "execution_count": 14,
   "id": "90ef0402-d86a-4b87-9bee-d8c3123b445e",
   "metadata": {},
   "outputs": [
    {
     "data": {
      "text/plain": [
       "ObservationArray([2212, 2213, 2214, ..., 4194, 4195, 4196], shape=(1359,))"
      ]
     },
     "execution_count": 14,
     "metadata": {},
     "output_type": "execute_result"
    }
   ],
   "source": [
    "new_obs[\"target_id\"]"
   ]
  },
  {
   "cell_type": "code",
   "execution_count": 15,
   "id": "7af2386f-5e39-4b28-9ed3-a0bca179f89a",
   "metadata": {},
   "outputs": [
    {
     "data": {
      "text/plain": [
       "ObservationArray([2212, 2213, 2214, ..., 4194, 4195, 4196], shape=(1359,))"
      ]
     },
     "execution_count": 15,
     "metadata": {},
     "output_type": "execute_result"
    }
   ],
   "source": [
    "observations[break_indx:][\"target_id\"]\n"
   ]
  },
  {
   "cell_type": "code",
   "execution_count": null,
   "id": "76d74eec-b8ad-4e97-942a-586eda7003c4",
   "metadata": {},
   "outputs": [],
   "source": []
  }
 ],
 "metadata": {
  "kernelspec": {
   "display_name": "Python 3 (ipykernel)",
   "language": "python",
   "name": "python3"
  },
  "language_info": {
   "codemirror_mode": {
    "name": "ipython",
    "version": 3
   },
   "file_extension": ".py",
   "mimetype": "text/x-python",
   "name": "python",
   "nbconvert_exporter": "python",
   "pygments_lexer": "ipython3",
   "version": "3.12.12"
  }
 },
 "nbformat": 4,
 "nbformat_minor": 5
}
