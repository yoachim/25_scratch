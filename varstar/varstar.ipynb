{
 "cells": [
  {
   "cell_type": "code",
   "execution_count": 1,
   "id": "3fd362b6-74b4-4d58-80d8-2dec5258011b",
   "metadata": {},
   "outputs": [],
   "source": [
    "import numpy as np\n",
    "import matplotlib.pylab as plt\n",
    "from scipy.optimize import minimize"
   ]
  },
  {
   "cell_type": "code",
   "execution_count": 3,
   "id": "ea33f9f8-eb3f-4585-921c-b0d9a91d6aee",
   "metadata": {},
   "outputs": [],
   "source": [
    "def stringlength_norm(m, norm=\"default\"):\n",
    "    \"\"\"\n",
    "    Normalize string length data set.\n",
    "    \n",
    "    Parameters\n",
    "    ----------\n",
    "    m : array\n",
    "        Data array\n",
    "    norm : string, {default, no}\n",
    "        If 'default' (default), the data points (mi) will be renormalized according\n",
    "        to Eq. 3 in Dworetsky 1983, i.e., using mnew = (mi - min(m)) / (2*(max(m) - min(m))).\n",
    "        If 'no' is specified, the data will not be changed.\n",
    "    \n",
    "    Returns\n",
    "    -------\n",
    "    ms : array\n",
    "        The normalized data\n",
    "    \"\"\"\n",
    "    if norm == \"default\":\n",
    "        mmin = np.min(m)\n",
    "        mmax = np.max(m)\n",
    "        # Dworetsky 1983, Eq. 3\n",
    "        ms = (m-mmin) / (2 * (mmax-mmin)) - 0.25\n",
    "    elif norm is False:\n",
    "        # Do nothing wrt normalization\n",
    "        ms = m\n",
    "    else:\n",
    "        raise ValueError(\"Unknown value for 'norm': \" + str(norm), \\\n",
    "                             where=\"stringlength_norm\", \\\n",
    "                             solution=\"Use 'default' or False\")\n",
    "    return ms\n",
    "\n",
    "\n",
    "\n",
    "def string_length(x,y, closed=False):\n",
    "    \"\"\"String length of a light curve\n",
    "    from https://github.com/sczesla/PyAstronomy/blob/master/src/pyTiming/stringlength.py\n",
    "\n",
    "    Parameters\n",
    "    ----------\n",
    "    x : np.array\n",
    "        Values on the x-axis, probably time. Should be normalized to run between 0-1.\n",
    "    y : np.array\n",
    "        Values on the y-axis, probably mags. Probably should be normalized with\n",
    "        stringlength_norm first. \n",
    "    closed : bool\n",
    "        Should the final point connect back to the first, i.e., this is \n",
    "        a periodic source. Default True.\n",
    "    \"\"\"\n",
    "    # String length\n",
    "    sl = np.sum(np.sqrt( np.diff(x)**2 + np.diff(y)**2 ))\n",
    "    if closed:\n",
    "        sl += np.sqrt( (x[0] - x[-1] + 1)**2 + (y[0] - y[-1])**2 )\n",
    "    return sl\n",
    "\n",
    "class VarStar(object):\n",
    "    \"\"\"Variable star object. Loads up a light curve and then has methods for\n",
    "    various analysis of the star.\n",
    "    \"\"\"\n",
    "    def __init__(self, mags, times, filter_names):\n",
    "        self.mags = mags\n",
    "        self.times = times\n",
    "        self.filter_names = filter_names\n",
    "        \n",
    "    def string_length(self, period_try, filters=\"all\"):\n",
    "        \"\"\"Compute the string length of the star for a given period.\n",
    "        Computes and sums over each filter.\n",
    "        \"\"\"\n",
    "\n",
    "        if filters == \"all\":\n",
    "            filters = np.unique(self.filter_names)\n",
    "\n",
    "        result = 0\n",
    "        for filtername in filters:\n",
    "            in_filt = np.where(self.filter_names == filtername)[0]\n",
    "            t = self.times[in_filt] % np.abs(period_try)\n",
    "            # Phased time between 0-1\n",
    "            t = t/period_try\n",
    "            ord_indx = np.argsort(t)\n",
    "            mags_norm = stringlength_norm(self.mags[in_filt][ord_indx])\n",
    "            result += string_length(t[ord_indx], mags_norm)\n",
    "\n",
    "        return result\n",
    "\n",
    "    def min_sl(self, x0=None, x0_min=0, x0_max=100, x0_step=0.5, \n",
    "               method='Nelder-Mead', tol=1e-6,**kwargs):\n",
    "        \"\"\"Try to minimize string length, store the \n",
    "        best fit result. \n",
    "        \"\"\"\n",
    "\n",
    "        if x0 is None:\n",
    "            x0s = np.arange(x0_min, x0_max, x0_step)\n",
    "        else:\n",
    "            x0s = [x0]\n",
    "\n",
    "        result = None\n",
    "        for x0 in x0s:\n",
    "            res = minimize(self.string_length, x0, method=method, tol=tol, **kwargs)\n",
    "            if result is None:\n",
    "                result = res\n",
    "            else:\n",
    "                if res.fun < result.fun:\n",
    "                    result = res\n",
    "            \n",
    "        self.minsl_result = result\n",
    "\n",
    "    \n",
    "        "
   ]
  },
  {
   "cell_type": "code",
   "execution_count": 9,
   "id": "24b46ff1-e5d2-48ee-be97-ff034b0dcedf",
   "metadata": {},
   "outputs": [],
   "source": [
    "t = np.arange(50)\n",
    "mags = np.sin(t/10. * 2 * np.pi) + np.random.rand(50)*.05\n",
    "filters=np.array([\"r\"] * 50)\n",
    "vs = VarStar(mags, t, filters)"
   ]
  },
  {
   "cell_type": "code",
   "execution_count": 13,
   "id": "9e27080b-89a5-4756-93c3-73487a9158a5",
   "metadata": {},
   "outputs": [],
   "source": [
    "vs.min_sl(x0_min=0.1, x0_max=50)"
   ]
  },
  {
   "cell_type": "code",
   "execution_count": 14,
   "id": "1d32a01e-c1aa-4a19-916f-34c2ad07372a",
   "metadata": {},
   "outputs": [
    {
     "data": {
      "text/plain": [
       "       message: Optimization terminated successfully.\n",
       "       success: True\n",
       "        status: 0\n",
       "           fun: 1.4465208190573235\n",
       "             x: [ 9.968e+00]\n",
       "           nit: 20\n",
       "          nfev: 40\n",
       " final_simplex: (array([[ 9.968e+00],\n",
       "                       [ 9.968e+00]]), array([ 1.447e+00,  1.447e+00]))"
      ]
     },
     "execution_count": 14,
     "metadata": {},
     "output_type": "execute_result"
    }
   ],
   "source": [
    "vs.minsl_result"
   ]
  },
  {
   "cell_type": "code",
   "execution_count": 15,
   "id": "9238ca63-ba19-40be-b0c2-35684bf9e79c",
   "metadata": {},
   "outputs": [
    {
     "data": {
      "text/plain": [
       "[<matplotlib.lines.Line2D at 0x156a97770>]"
      ]
     },
     "execution_count": 15,
     "metadata": {},
     "output_type": "execute_result"
    },
    {
     "data": {
      "image/png": "[encoded data removed]",
      "text/plain": [
       "<Figure size 640x480 with 1 Axes>"
      ]
     },
     "metadata": {},
     "output_type": "display_data"
    }
   ],
   "source": [
    "plt.plot(t % vs.minsl_result.x, mags, 'ko')"
   ]
  },
  {
   "cell_type": "code",
   "execution_count": null,
   "id": "6663fcba-f04e-4173-998b-fb189455877a",
   "metadata": {},
   "outputs": [],
   "source": []
  },
  {
   "cell_type": "code",
   "execution_count": null,
   "id": "d04b7fec-9e15-4ad8-9b09-0ac9ad36e65f",
   "metadata": {},
   "outputs": [],
   "source": []
  },
  {
   "cell_type": "code",
   "execution_count": null,
   "id": "dba94201-abb7-4089-b5b8-0a3a74c4d7a7",
   "metadata": {},
   "outputs": [],
   "source": []
  },
  {
   "cell_type": "code",
   "execution_count": null,
   "id": "70ab4267-1b2c-4cfa-9447-3e011b101adc",
   "metadata": {},
   "outputs": [],
   "source": []
  },
  {
   "cell_type": "code",
   "execution_count": null,
   "id": "46ecd919-1305-4dfb-903b-292e13a1c81e",
   "metadata": {},
   "outputs": [],
   "source": []
  }
 ],
 "metadata": {
  "kernelspec": {
   "display_name": "Python 3 (ipykernel)",
   "language": "python",
   "name": "python3"
  },
  "language_info": {
   "codemirror_mode": {
    "name": "ipython",
    "version": 3
   },
   "file_extension": ".py",
   "mimetype": "text/x-python",
   "name": "python",
   "nbconvert_exporter": "python",
   "pygments_lexer": "ipython3",
   "version": "3.12.10"
  }
 },
 "nbformat": 4,
 "nbformat_minor": 5
}
